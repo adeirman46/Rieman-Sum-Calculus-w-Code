{
 "cells": [
  {
   "cell_type": "code",
   "execution_count": 1,
   "id": "d94585e1-4da3-4850-9c70-b213ca123e4d",
   "metadata": {},
   "outputs": [],
   "source": [
    "import numpy as np\n",
    "import matplotlib.pyplot as plt\n",
    "import tensorflow as tf\n",
    "from sympy import *\n",
    "import seaborn as sns\n",
    "sns.set_style('whitegrid')\n",
    "%matplotlib inline"
   ]
  },
  {
   "cell_type": "code",
   "execution_count": 3,
   "id": "f50cd3ca-cca9-4de4-ad11-a42c99437baa",
   "metadata": {},
   "outputs": [
    {
     "data": {
      "text/plain": [
       "327.6"
      ]
     },
     "execution_count": 3,
     "metadata": {},
     "output_type": "execute_result"
    }
   ],
   "source": [
    "273 * 120 / 100"
   ]
  },
  {
   "cell_type": "code",
   "execution_count": 7,
   "id": "a151248c-a0c3-4ea9-867d-3a59abc77d2f",
   "metadata": {},
   "outputs": [
    {
     "data": {
      "text/plain": [
       "348.0"
      ]
     },
     "execution_count": 7,
     "metadata": {},
     "output_type": "execute_result"
    }
   ],
   "source": [
    "90 * 273 / 327.6 + 273"
   ]
  },
  {
   "cell_type": "markdown",
   "id": "36912c5b-2d9c-41cf-8e19-37b296d76899",
   "metadata": {},
   "source": [
    "## Rieman Kanan (cari error terbesar (terbaik) sebagai penentuan a/b)"
   ]
  },
  {
   "cell_type": "code",
   "execution_count": 46,
   "id": "248eb7b3-33bd-4d25-9f16-af0fecfe05fa",
   "metadata": {},
   "outputs": [
    {
     "data": {
      "text/latex": [
       "$\\displaystyle 0.5 x^{2} + 1$"
      ],
      "text/plain": [
       "0.5*x**2 + 1"
      ]
     },
     "execution_count": 46,
     "metadata": {},
     "output_type": "execute_result"
    }
   ],
   "source": [
    "a = 0\n",
    "b = 2\n",
    "n = 4\n",
    "x = np.linspace(a, b , n+1)\n",
    "f = lambda x: 1/2 * x**2 + 1\n",
    "\n",
    "# Symbols for derivative\n",
    "xs = symbols('x')\n",
    "ys = 1/2 * xs**2 + 1\n",
    "ys"
   ]
  },
  {
   "cell_type": "code",
   "execution_count": 47,
   "id": "edb87091-a397-4f0f-82cf-0c27718fc45c",
   "metadata": {},
   "outputs": [
    {
     "data": {
      "image/png": "[encoded data removed]",
      "text/plain": [
       "<Figure size 432x288 with 1 Axes>"
      ]
     },
     "metadata": {
      "needs_background": "light"
     },
     "output_type": "display_data"
    },
    {
     "name": "stdout",
     "output_type": "stream",
     "text": [
      "Luas : 3.875, Error : 1.0000000000\n"
     ]
    }
   ],
   "source": [
    "def rieman_kanan (x, y):\n",
    "    luas_besar = 0\n",
    "    luas_besar_list = []\n",
    "    \n",
    "    plt.plot(x, y, c='red')\n",
    "    \n",
    "    for i in range(len(x)-1):\n",
    "        luas_kecil = y[i+1] * (x[i+1] - x[i])\n",
    "        luas_besar += luas_kecil\n",
    "        luas_besar_list.append(luas_kecil)\n",
    "        plt.vlines(x=x[i+1], ymax=y[i+1], ymin=0, colors='green')\n",
    "        plt.vlines(x=x[i], ymax=y[i+1], ymin=0, colors='green')\n",
    "        plt.hlines(y=y[i+1], xmax=x[i+1], xmin=x[i], colors='green')\n",
    "        plt.hlines(y=0, xmax=x[i+1], xmin=x[i], colors='green')\n",
    "        \n",
    "    plt.show()\n",
    "    \n",
    "    # Error\n",
    "    der = diff(ys, xs, 1)\n",
    "    z = lambdify('x', expr=der)\n",
    "    error = np.abs(-(b-a)**2 * z(b) / (2*n)) # CHANGE A AND B\n",
    "    \n",
    "    print(f'Luas : {luas_besar}, Error : {error:.10f}')\n",
    "\n",
    "\n",
    "def rieman_kanan_abs(x, y):\n",
    "    y = np.absolute(y)\n",
    "    luas_besar = 0\n",
    "    luas_besar_list = []\n",
    "    \n",
    "    plt.plot(x, y, c='red')\n",
    "    \n",
    "    for i in range(len(x)-1):\n",
    "        luas_kecil = y[i+1] * (x[i+1] - x[i])\n",
    "        luas_besar += luas_kecil\n",
    "        luas_besar_list.append(luas_kecil)\n",
    "        plt.vlines(x=x[i+1], ymax=y[i+1], ymin=0, colors='green')\n",
    "        plt.vlines(x=x[i], ymax=y[i+1], ymin=0, colors='green')\n",
    "        plt.hlines(y=y[i+1], xmax=x[i+1], xmin=x[i], colors='green')\n",
    "        plt.hlines(y=0, xmax=x[i+1], xmin=x[i], colors='green')\n",
    "        \n",
    "    plt.show()\n",
    "    \n",
    "    return luas_besar\n",
    "\n",
    "rieman_kanan(x, f(x))"
   ]
  },
  {
   "cell_type": "markdown",
   "id": "e66f6d93-7e34-431c-b21a-282c97a14394",
   "metadata": {},
   "source": [
    "## Rieman Kiri"
   ]
  },
  {
   "cell_type": "code",
   "execution_count": 44,
   "id": "a660fd2f-bfea-4c1b-888e-ff943965c5b0",
   "metadata": {},
   "outputs": [
    {
     "data": {
      "text/latex": [
       "$\\displaystyle x + 1$"
      ],
      "text/plain": [
       "x + 1"
      ]
     },
     "execution_count": 44,
     "metadata": {},
     "output_type": "execute_result"
    }
   ],
   "source": [
    "a = 0\n",
    "b = 2\n",
    "n = 4\n",
    "x = np.linspace(a, b , n+1)\n",
    "f = lambda x: x+1\n",
    "\n",
    "# Symbols for derivative\n",
    "xs = symbols('x')\n",
    "ys = xs + 1\n",
    "ys"
   ]
  },
  {
   "cell_type": "code",
   "execution_count": 45,
   "id": "42cb8a0a-7004-4cdc-a755-938b2eb6b23f",
   "metadata": {},
   "outputs": [
    {
     "data": {
      "image/png": "[encoded data removed]",
      "text/plain": [
       "<Figure size 432x288 with 1 Axes>"
      ]
     },
     "metadata": {
      "needs_background": "light"
     },
     "output_type": "display_data"
    },
    {
     "name": "stdout",
     "output_type": "stream",
     "text": [
      "Luas : 3.5, Error : 0.5000000000\n"
     ]
    }
   ],
   "source": [
    "def rieman_kiri(x, y):\n",
    "    luas_besar = 0\n",
    "    luas_besar_list = []\n",
    "    \n",
    "    plt.plot(x, y, c='red')\n",
    "    \n",
    "    for i in range(len(x)-1):\n",
    "        luas_kecil = y[i] * (x[i+1] - x[i])\n",
    "        luas_besar += luas_kecil\n",
    "        luas_besar_list.append(luas_kecil)\n",
    "        plt.vlines(x=x[i], ymax=y[i], ymin=0, colors='green')\n",
    "        plt.vlines(x=x[i+1], ymax=y[i], ymin=0, colors='green')\n",
    "        plt.hlines(y=y[i], xmax=x[i+1], xmin=x[i], colors='green')\n",
    "        plt.hlines(y=0, xmax=x[i+1], xmin=x[i], colors='green')\n",
    "        \n",
    "    plt.show()\n",
    "    \n",
    "    # Error\n",
    "    der = diff(ys, xs, 1)\n",
    "    z = lambdify('x', expr=der)\n",
    "    error = np.abs((b-a)**2 * z(b) / (2*n))\n",
    "    \n",
    "    print(f'Luas : {luas_besar}, Error : {error:.10f}')\n",
    "\n",
    "\n",
    "\n",
    "def rieman_kiri_abs(x, y):\n",
    "    y = np.abs(y)\n",
    "    luas_besar = 0\n",
    "    luas_besar_list = []\n",
    "    \n",
    "    plt.plot(x, y, c='red')\n",
    "    \n",
    "    for i in range(len(x)-1):\n",
    "        luas_kecil = y[i] * (x[i+1] - x[i])\n",
    "        luas_besar += luas_kecil\n",
    "        luas_besar_list.append(luas_kecil)\n",
    "        plt.vlines(x=x[i], ymax=y[i], ymin=0, colors='green')\n",
    "        plt.vlines(x=x[i+1], ymax=y[i], ymin=0, colors='green')\n",
    "        plt.hlines(y=y[i], xmax=x[i+1], xmin=x[i], colors='green')\n",
    "        plt.hlines(y=0, xmax=x[i+1], xmin=x[i], colors='green')\n",
    "        \n",
    "    plt.show()\n",
    "    \n",
    "    return luas_besar\n",
    "    \n",
    "    \n",
    "rieman_kiri(x, f(x))"
   ]
  },
  {
   "cell_type": "markdown",
   "id": "72136195-ec20-4899-b6a1-a4ca5a13aa42",
   "metadata": {
    "tags": []
   },
   "source": [
    "## Rieman Tengah"
   ]
  },
  {
   "cell_type": "code",
   "execution_count": 2,
   "id": "4992f115-4316-4926-9892-9cfce3088e23",
   "metadata": {},
   "outputs": [
    {
     "ename": "NameError",
     "evalue": "name 'x' is not defined",
     "output_type": "error",
     "traceback": [
      "\u001b[1;31m---------------------------------------------------------------------------\u001b[0m",
      "\u001b[1;31mNameError\u001b[0m                                 Traceback (most recent call last)",
      "\u001b[1;32m~\\AppData\\Local\\Temp/ipykernel_14868/2031380595.py\u001b[0m in \u001b[0;36m<module>\u001b[1;34m\u001b[0m\n\u001b[0;32m      1\u001b[0m \u001b[0ma\u001b[0m \u001b[1;33m=\u001b[0m \u001b[1;36m1\u001b[0m\u001b[1;33m\u001b[0m\u001b[1;33m\u001b[0m\u001b[0m\n\u001b[1;32m----> 2\u001b[1;33m \u001b[0mb\u001b[0m \u001b[1;33m=\u001b[0m \u001b[0mx\u001b[0m\u001b[1;33m\u001b[0m\u001b[1;33m\u001b[0m\u001b[0m\n\u001b[0m\u001b[0;32m      3\u001b[0m \u001b[0mn\u001b[0m \u001b[1;33m=\u001b[0m \u001b[1;36m1000\u001b[0m\u001b[1;33m\u001b[0m\u001b[1;33m\u001b[0m\u001b[0m\n\u001b[0;32m      4\u001b[0m \u001b[0mt\u001b[0m \u001b[1;33m=\u001b[0m \u001b[0mnp\u001b[0m\u001b[1;33m.\u001b[0m\u001b[0mlinspace\u001b[0m\u001b[1;33m(\u001b[0m\u001b[0ma\u001b[0m\u001b[1;33m,\u001b[0m \u001b[0mb\u001b[0m \u001b[1;33m,\u001b[0m \u001b[0mn\u001b[0m\u001b[1;33m+\u001b[0m\u001b[1;36m1\u001b[0m\u001b[1;33m)\u001b[0m\u001b[1;33m\u001b[0m\u001b[1;33m\u001b[0m\u001b[0m\n\u001b[0;32m      5\u001b[0m \u001b[0mf\u001b[0m \u001b[1;33m=\u001b[0m \u001b[1;32mlambda\u001b[0m \u001b[0mt\u001b[0m\u001b[1;33m:\u001b[0m \u001b[1;36m1\u001b[0m\u001b[1;33m/\u001b[0m\u001b[1;33m(\u001b[0m\u001b[0mt\u001b[0m\u001b[1;33m**\u001b[0m\u001b[1;36m2\u001b[0m \u001b[1;33m+\u001b[0m \u001b[1;36m1\u001b[0m\u001b[1;33m)\u001b[0m\u001b[1;33m\u001b[0m\u001b[1;33m\u001b[0m\u001b[0m\n",
      "\u001b[1;31mNameError\u001b[0m: name 'x' is not defined"
     ]
    }
   ],
   "source": [
    "a = 1\n",
    "b = x\n",
    "n = 1000\n",
    "t = np.linspace(a, b , n+1)\n",
    "f = lambda t: 1/(t**2 + 1)\n",
    "\n",
    "# Symbols for derivative\n",
    "ts = symbols('t')\n",
    "ys = 1/(ts**2 + 1)\n",
    "ys"
   ]
  },
  {
   "cell_type": "code",
   "execution_count": 45,
   "id": "39800ce1-2f43-4883-a47f-93d56b046124",
   "metadata": {},
   "outputs": [
    {
     "data": {
      "image/png": "[encoded data removed]",
      "text/plain": [
       "<Figure size 432x288 with 1 Axes>"
      ]
     },
     "metadata": {},
     "output_type": "display_data"
    },
    {
     "name": "stdout",
     "output_type": "stream",
     "text": [
      "Luas : 1.0\n",
      "Luas : 1.0, Error : 0.0000000000\n"
     ]
    }
   ],
   "source": [
    "def rieman_tengah(x, y):\n",
    "    x_tengah = np.mean([(x[i+1] - x[i])/2 for i in range(len(x)-1)])\n",
    "    x_new = [i + x_tengah for i in np.array(x)]\n",
    "    y_new = f(np.array(x_new))\n",
    "    luas_besar = 0\n",
    "    luas_besar_list = []\n",
    "    \n",
    "    plt.plot(x, y, c='red')\n",
    "    \n",
    "    for i in range(len(x)-1):\n",
    "        luas_kecil = y_new[i] * (x[i+1] - x[i])\n",
    "        luas_besar += luas_kecil\n",
    "        luas_besar_list.append(luas_kecil)\n",
    "        plt.vlines(x=x[i], ymax=y_new[i], ymin=0, colors='green')\n",
    "        plt.vlines(x=x[i+1], ymax=y_new[i], ymin=0, colors='green')\n",
    "        plt.hlines(y=y_new[i], xmax=x[i+1], xmin=x[i], colors='green')\n",
    "        plt.hlines(y=0, xmax=x[i+1], xmin=x[i], colors='green')\n",
    "        \n",
    "    plt.show()\n",
    "    print(f'Luas : {luas_besar}')\n",
    "          \n",
    "    # Error\n",
    "    der = diff(ys, xs, 2)\n",
    "    z = lambdify('x', expr=der)\n",
    "    error = np.abs((b-a)**3 * z(a) / (24 * n**2))\n",
    "    \n",
    "    print(f'Luas : {luas_besar}, Error : {error:.10f}')\n",
    "\n",
    "\n",
    "def rieman_tengah_abs(x, y):\n",
    "    y = np.abs(y)\n",
    "    x_tengah = np.mean([(x[i+1] - x[i])/2 for i in range(len(x)-1)])\n",
    "    x_new = [i + x_tengah for i in np.array(x)]\n",
    "    y_new = f(np.array(x_new))\n",
    "    y_new = np.abs(y_new)\n",
    "    luas_besar = 0\n",
    "    luas_besar_list = []\n",
    "    \n",
    "    plt.plot(x, y, c='red')\n",
    "    \n",
    "    for i in range(len(x)-1):\n",
    "        luas_kecil = y_new[i] * (x[i+1] - x[i])\n",
    "        luas_besar += luas_kecil\n",
    "        luas_besar_list.append(luas_kecil)\n",
    "        plt.vlines(x=x[i], ymax=y_new[i], ymin=0, colors='green')\n",
    "        plt.vlines(x=x[i+1], ymax=y_new[i], ymin=0, colors='green')\n",
    "        plt.hlines(y=y_new[i], xmax=x[i+1], xmin=x[i], colors='green')\n",
    "        plt.hlines(y=0, xmax=x[i+1], xmin=x[i], colors='green')\n",
    "        \n",
    "    plt.show()\n",
    "    \n",
    "    return luas_besar\n",
    "    \n",
    "    \n",
    "rieman_tengah(x, f(x))"
   ]
  },
  {
   "cell_type": "code",
   "execution_count": 25,
   "id": "3d848a2c-009e-4f2d-81c9-b7881a89786b",
   "metadata": {},
   "outputs": [
    {
     "data": {
      "text/plain": [
       "4.83"
      ]
     },
     "execution_count": 25,
     "metadata": {},
     "output_type": "execute_result"
    }
   ],
   "source": [
    "2.33 + 2.5"
   ]
  },
  {
   "cell_type": "code",
   "execution_count": 28,
   "id": "1819791e-d7b1-4405-b4bb-3cb5e9bdbbf8",
   "metadata": {},
   "outputs": [
    {
     "data": {
      "text/plain": [
       "7.853981633974483"
      ]
     },
     "execution_count": 28,
     "metadata": {},
     "output_type": "execute_result"
    }
   ],
   "source": [
    "5/2 * np.pi"
   ]
  },
  {
   "cell_type": "markdown",
   "id": "38387ac8-c94e-4d70-a029-f32eea3fc29f",
   "metadata": {},
   "source": [
    "## Trapezoidal Rule"
   ]
  },
  {
   "cell_type": "code",
   "execution_count": 143,
   "id": "9a67949b-894e-4012-8050-d8d6a379b4c1",
   "metadata": {},
   "outputs": [
    {
     "data": {
      "text/latex": [
       "$\\displaystyle x^{3} - 3 x^{2} - x + 3$"
      ],
      "text/plain": [
       "x**3 - 3*x**2 - x + 3"
      ]
     },
     "execution_count": 143,
     "metadata": {},
     "output_type": "execute_result"
    }
   ],
   "source": [
    "# Error dicari yang paling besar ketika ingin menentukan jumlah n\n",
    "a = -1\n",
    "b = 2\n",
    "n = 100\n",
    "x = np.linspace(a, b , n+1)\n",
    "f = lambda x: x**3 - 3*(x**2) -x + 3\n",
    "\n",
    "# Symbols for derivative\n",
    "xs = symbols('x')\n",
    "ys = xs**3 - 3*(xs**2) -xs + 3 # in a form of xs\n",
    "ys"
   ]
  },
  {
   "cell_type": "code",
   "execution_count": 150,
   "id": "bb7da1ea-d975-4b24-8e02-d69967eb140d",
   "metadata": {},
   "outputs": [
    {
     "data": {
      "image/png": "[encoded data removed]",
      "text/plain": [
       "<Figure size 432x288 with 1 Axes>"
      ]
     },
     "metadata": {},
     "output_type": "display_data"
    },
    {
     "name": "stdout",
     "output_type": "stream",
     "text": [
      "Luas : 2.249325, Error : 0.0013500000\n"
     ]
    }
   ],
   "source": [
    "def trapezoid_rule(x, y):\n",
    "    luas_besar = 0\n",
    "    luas_besar_list = []\n",
    "    \n",
    "    plt.plot(x, y, c='red')\n",
    "    \n",
    "    for i in range(len(x)-1):\n",
    "        luas_kecil = 0.5 * (y[i+1] + y[i]) * (x[i+1] - x[i])\n",
    "        luas_besar += luas_kecil\n",
    "        luas_besar_list.append(luas_kecil)\n",
    "        plt.vlines(x=x[i+1], ymax=y[i+1], ymin=0, colors='green')\n",
    "        plt.vlines(x=x[i], ymax=y[i], ymin=0, colors='green')\n",
    "        plt.plot(y[i], y[i+1], c='green')\n",
    "        plt.hlines(y=0, xmax=x[i+1], xmin=x[i], colors='green')\n",
    "        \n",
    "    plt.show()\n",
    "    \n",
    "    # Error\n",
    "    der = diff(ys, xs, 2)\n",
    "    z = lambdify('x', expr=der)\n",
    "    error = np.abs(-(b-a)**3 * z(b) / (12 * n**2))\n",
    "    \n",
    "    print(f'Luas : {luas_besar}, Error : {error:.10f}')\n",
    "\n",
    "trapezoid_rule(x, f(x))"
   ]
  },
  {
   "cell_type": "markdown",
   "id": "4e366e48-768e-447c-9b5c-0de063781870",
   "metadata": {},
   "source": [
    "## Parabolic Rule"
   ]
  },
  {
   "cell_type": "code",
   "execution_count": 5,
   "id": "240129f8-7afb-42d7-bf60-fb1c16c4d0bc",
   "metadata": {},
   "outputs": [
    {
     "data": {
      "text/latex": [
       "$\\displaystyle \\frac{2 \\sqrt{3} \\left(10807997.0392298 - 124800 x\\right)}{3}$"
      ],
      "text/plain": [
       "2*sqrt(3)*(10807997.0392298 - 124800*x)/3"
      ]
     },
     "execution_count": 5,
     "metadata": {},
     "output_type": "execute_result"
    }
   ],
   "source": [
    "a = 3\n",
    "b = 6\n",
    "n = 1000\n",
    "x = np.linspace(a, b , n+1)\n",
    "f = lambda x: x**2 - 6*x + 2\n",
    "\n",
    "# Symbols for derivative\n",
    "xs = symbols('x')\n",
    "ys = 624 * 200 * (50*((3)**0.5) - xs) / sin(pi/3)\n",
    "ys"
   ]
  },
  {
   "cell_type": "code",
   "execution_count": 6,
   "id": "b476ff41-b92e-4d12-a43c-eea78fa73c24",
   "metadata": {},
   "outputs": [],
   "source": [
    "def parabolic_rule_no_incude_error_val(x, y):\n",
    "    luas_besar = 0\n",
    "    luas_besar_list = []\n",
    "    \n",
    "    plt.plot(x, y, c='red')\n",
    "    \n",
    "    for i in range(0, len(x)-2, 2):\n",
    "        luas_kecil = ((x[i+1] - x[i])/3) * (y[i] + 4*y[i+1] + y[i+2])\n",
    "        luas_besar += luas_kecil\n",
    "        luas_besar_list.append(luas_kecil)\n",
    "        plt.vlines(x=x[i+1], ymax=y[i+1], ymin=0, colors='green')\n",
    "        plt.vlines(x=x[i], ymax=y[i], ymin=0, colors='green')\n",
    "        plt.vlines(x=x[i-1], ymax=y[i-1], ymin=0, colors='green')\n",
    "        plt.plot(y[i], y[i+1], c='green')\n",
    "        plt.hlines(y=0, xmax=x[i+1], xmin=x[i], colors='green')\n",
    "        plt.hlines(y=0, xmax=x[i], xmin=x[i-1], colors='green')\n",
    "\n",
    "    plt.show()\n",
    "    \n",
    "    print(f'Luas : {luas_besar}')\n",
    "    \n",
    "def parabolic_rule_no_incude_error_val_abs(x, y):\n",
    "    y = np.abs(y)\n",
    "    luas_besar = 0\n",
    "    luas_besar_list = []\n",
    "    \n",
    "    plt.plot(x, y, c='red')\n",
    "    \n",
    "    for i in range(0, len(x)-2, 2):\n",
    "        luas_kecil = ((x[i+1] - x[i])/3) * (y[i] + 4*y[i+1] + y[i+2])\n",
    "        luas_besar += luas_kecil\n",
    "        luas_besar_list.append(luas_kecil)\n",
    "        plt.vlines(x=x[i+1], ymax=y[i+1], ymin=0, colors='green')\n",
    "        plt.vlines(x=x[i], ymax=y[i], ymin=0, colors='green')\n",
    "        plt.vlines(x=x[i-1], ymax=y[i-1], ymin=0, colors='green')\n",
    "        plt.plot(y[i], y[i+1], c='green')\n",
    "        plt.hlines(y=0, xmax=x[i+1], xmin=x[i], colors='green')\n",
    "        plt.hlines(y=0, xmax=x[i], xmin=x[i-1], colors='green')\n",
    "\n",
    "    plt.show()\n",
    "    \n",
    "    print(f'Luas : {luas_besar}')\n"
   ]
  },
  {
   "cell_type": "code",
   "execution_count": 7,
   "id": "aa463302-427d-4ee6-bddf-18171dcbcd18",
   "metadata": {},
   "outputs": [
    {
     "data": {
      "image/png": "[encoded data removed]",
      "text/plain": [
       "<Figure size 432x288 with 1 Axes>"
      ]
     },
     "metadata": {
      "needs_background": "light"
     },
     "output_type": "display_data"
    },
    {
     "name": "stdout",
     "output_type": "stream",
     "text": [
      "Luas : -11.999999999999986\n"
     ]
    }
   ],
   "source": [
    "def parabolic_rule(x, y):\n",
    "    luas_besar = 0\n",
    "    luas_besar_list = []\n",
    "    \n",
    "    plt.plot(x, y, c='red')\n",
    "    \n",
    "    for i in range(0, len(x)-2, 2):\n",
    "        luas_kecil = ((x[i+1] - x[i])/3) * (y[i] + 4*y[i+1] + y[i+2])\n",
    "        luas_besar += luas_kecil\n",
    "        luas_besar_list.append(luas_kecil)\n",
    "        plt.vlines(x=x[i+1], ymax=y[i+1], ymin=0, colors='green')\n",
    "        plt.vlines(x=x[i], ymax=y[i], ymin=0, colors='green')\n",
    "        plt.vlines(x=x[i-1], ymax=y[i-1], ymin=0, colors='green')\n",
    "        plt.plot(y[i], y[i+1], c='green')\n",
    "        plt.hlines(y=0, xmax=x[i+1], xmin=x[i], colors='green')\n",
    "        plt.hlines(y=0, xmax=x[i], xmin=x[i-1], colors='green')\n",
    "\n",
    "    plt.show()\n",
    "    \n",
    "    # Error\n",
    "    der = diff(ys, xs, 4)\n",
    "    z = lambdify('x', expr=der)\n",
    "    error = np.abs(-(b-a)**5 * z(b) / (180 * n**4))\n",
    "    \n",
    "    print(f'Luas : {luas_besar}, Error : {error:.10f}')\n",
    "\n",
    "\n",
    "def parabolic_rule_abs(x, y):\n",
    "    y = np.abs(y)\n",
    "    luas_besar = 0\n",
    "    luas_besar_list = []\n",
    "    \n",
    "    plt.plot(x, y, c='red')\n",
    "    \n",
    "    for i in range(0, len(x)-2, 2):\n",
    "        luas_kecil = ((x[i+1] - x[i])/3) * (y[i] + 4*y[i+1] + y[i+2])\n",
    "        luas_besar += luas_kecil\n",
    "        luas_besar_list.append(luas_kecil)\n",
    "        plt.vlines(x=x[i+1], ymax=y[i+1], ymin=0, colors='green')\n",
    "        plt.vlines(x=x[i], ymax=y[i], ymin=0, colors='green')\n",
    "        plt.vlines(x=x[i-1], ymax=y[i-1], ymin=0, colors='green')\n",
    "        plt.plot(y[i], y[i+1], c='green')\n",
    "        plt.hlines(y=0, xmax=x[i+1], xmin=x[i], colors='green')\n",
    "        plt.hlines(y=0, xmax=x[i], xmin=x[i-1], colors='green')\n",
    "\n",
    "    plt.show()\n",
    "    \n",
    "    # Error\n",
    "    der = diff(ys, xs, 4)\n",
    "    z = lambdify('x', expr=der)\n",
    "    error = np.abs(-(b-a)**5 * z(b) / (180 * n**4))\n",
    "    \n",
    "    print(f'Luas : {luas_besar}, Error : {error:.10f}')\n",
    "\n",
    "parabolic_rule_no_incude_error_val(x, f(x))"
   ]
  },
  {
   "cell_type": "markdown",
   "id": "52777eff-e518-4cf8-9c88-b066893ee1a0",
   "metadata": {},
   "source": [
    "## Rieman Kanan (Find n) -- Cari error terbesar untuk menentukan a/b"
   ]
  },
  {
   "cell_type": "code",
   "execution_count": 165,
   "id": "c47d2d3e-a90a-4999-ad14-19366f843dc3",
   "metadata": {},
   "outputs": [
    {
     "data": {
      "text/latex": [
       "$\\displaystyle x^{2} + 1$"
      ],
      "text/plain": [
       "x**2 + 1"
      ]
     },
     "execution_count": 165,
     "metadata": {},
     "output_type": "execute_result"
    }
   ],
   "source": [
    "a = 1\n",
    "b = 9\n",
    "error_rate = 0.1\n",
    "\n",
    "# Symbols for derivative\n",
    "xs = symbols('x')\n",
    "ys = xs**2 + 1\n",
    "ys"
   ]
  },
  {
   "cell_type": "code",
   "execution_count": 167,
   "id": "cb7ab2c7-53d8-4895-af8e-64de1773dcbb",
   "metadata": {},
   "outputs": [
    {
     "name": "stdout",
     "output_type": "stream",
     "text": [
      "Error : 0.1000000 didapat dengan memotong grafik sebanyak n : 5760 bagian\n"
     ]
    }
   ],
   "source": [
    "def rieman_kanan_find_n(xs, ys):\n",
    "    \n",
    "    # Error\n",
    "    n_final = 0\n",
    "    der = diff(ys, xs, 1)\n",
    "    z = lambdify('x', expr=der)\n",
    "    for n in range(1, 1000000):\n",
    "        error = np.abs(-(b-a)**2 * z(b) / (2*n))\n",
    "        if error <= error_rate:\n",
    "            n_final += n\n",
    "            break\n",
    "    \n",
    "    print(f'Error : {error_rate:.7f} didapat dengan memotong grafik sebanyak n : {n_final} bagian')\n",
    "\n",
    "rieman_kanan_find_n(xs, ys)"
   ]
  },
  {
   "cell_type": "markdown",
   "id": "08896011-d382-4594-9feb-ed81ad21b594",
   "metadata": {},
   "source": [
    "## Rieman Kiri (Find n)"
   ]
  },
  {
   "cell_type": "code",
   "execution_count": 29,
   "id": "191ef63d-e4ec-487b-850e-4a037f9c4a35",
   "metadata": {},
   "outputs": [],
   "source": [
    "a = 1\n",
    "b = 4\n",
    "error_rate = 0.00001\n",
    "\n",
    "# Symbols for derivative\n",
    "xs = symbols('x')\n",
    "ys = (1 / (1 + xs))"
   ]
  },
  {
   "cell_type": "code",
   "execution_count": 30,
   "id": "8977c1e2-7e0f-4029-98f4-e74a7e7c949a",
   "metadata": {},
   "outputs": [
    {
     "name": "stdout",
     "output_type": "stream",
     "text": [
      "Error : 0.0000100 didapat dengan memotong grafik sebanyak n : 112500 bagian\n"
     ]
    }
   ],
   "source": [
    "def rieman_kiri_find_n(xs, ys):\n",
    "    \n",
    "    # Error\n",
    "    n_final = 0\n",
    "    der = diff(ys, xs, 1)\n",
    "    z = lambdify('x', expr=der)\n",
    "    for n in range(1, 1000000):\n",
    "        error = np.abs((b-a)**2 * z(a) / (2*n))\n",
    "        if error <= error_rate:\n",
    "            n_final += n\n",
    "            break\n",
    "    \n",
    "    print(f'Error : {error_rate:.7f} didapat dengan memotong grafik sebanyak n : {n_final} bagian')\n",
    "\n",
    "rieman_kiri_find_n(xs, ys)"
   ]
  },
  {
   "cell_type": "markdown",
   "id": "7f51719b-5b77-49ef-8190-c2ca18b6fd4e",
   "metadata": {},
   "source": [
    "## Rieman Tengah (Find n)"
   ]
  },
  {
   "cell_type": "code",
   "execution_count": 18,
   "id": "7f0f972b-e84a-4950-abcd-a00d18b27f5f",
   "metadata": {},
   "outputs": [],
   "source": [
    "a = 1\n",
    "b = 4\n",
    "error_rate = 0.00001\n",
    "\n",
    "# Symbols for derivative\n",
    "xs = symbols('x')\n",
    "ys = (1 / (1 + xs))"
   ]
  },
  {
   "cell_type": "code",
   "execution_count": 19,
   "id": "4d1382cc-87ee-413f-a84c-c1debe8b841c",
   "metadata": {},
   "outputs": [
    {
     "name": "stdout",
     "output_type": "stream",
     "text": [
      "Error : 0.0000100 didapat dengan memotong grafik sebanyak n : 168 bagian\n"
     ]
    }
   ],
   "source": [
    "def rieman_tengah_find_n(xs, ys):\n",
    "    \n",
    "    # Error\n",
    "    n_final = 0\n",
    "    der = diff(ys, xs, 2)\n",
    "    z = lambdify('x', expr=der)\n",
    "    for n in range(1, 1000000):\n",
    "        error = np.abs((b-a)**3 * z(a) / (24 * n**2))\n",
    "        if error <= error_rate:\n",
    "            n_final += n\n",
    "            break\n",
    "    \n",
    "    print(f'Error : {error_rate:.7f} didapat dengan memotong grafik sebanyak n : {n_final} bagian')\n",
    "\n",
    "rieman_tengah_find_n(xs, ys)"
   ]
  },
  {
   "cell_type": "markdown",
   "id": "ac97120d-6437-4871-ab30-b2bc1afc887c",
   "metadata": {},
   "source": [
    "## Trapezoidal Rule (Find n)"
   ]
  },
  {
   "cell_type": "code",
   "execution_count": 20,
   "id": "33f4c2c9-29a1-4e06-8aa9-03eb958c1568",
   "metadata": {},
   "outputs": [],
   "source": [
    "a = 1\n",
    "b = 4\n",
    "error_rate = 0.00001\n",
    "\n",
    "# Symbols for derivative\n",
    "xs = symbols('x')\n",
    "ys = (1 / (1 + xs))"
   ]
  },
  {
   "cell_type": "code",
   "execution_count": 21,
   "id": "e7192fe4-70d7-48e8-bf3d-8218260f0c2a",
   "metadata": {},
   "outputs": [
    {
     "name": "stdout",
     "output_type": "stream",
     "text": [
      "Error : 0.0000100 didapat dengan memotong grafik sebanyak n : 238 bagian\n"
     ]
    }
   ],
   "source": [
    "def trapezoidal_rule_find_n(xs, ys):\n",
    "    \n",
    "    # Error\n",
    "    n_final = 0\n",
    "    der = diff(ys, xs, 2)\n",
    "    z = lambdify('x', expr=der)\n",
    "    for n in range(1, 1000000):\n",
    "        error = np.abs(-(b-a)**3 * z(a) / (12 * n**2))\n",
    "        if error <= error_rate:\n",
    "            n_final += n\n",
    "            break\n",
    "    \n",
    "    print(f'Error : {error_rate:.7f} didapat dengan memotong grafik sebanyak n : {n_final} bagian')\n",
    "\n",
    "trapezoidal_rule_find_n(xs, ys)"
   ]
  },
  {
   "cell_type": "markdown",
   "id": "4ed59c94-c9d7-4f00-aa5f-53cf8820059c",
   "metadata": {},
   "source": [
    "## Parabolic Rule (Find n)"
   ]
  },
  {
   "cell_type": "code",
   "execution_count": 13,
   "id": "f0f96c48-5344-4f6b-b440-ab06bb807112",
   "metadata": {},
   "outputs": [],
   "source": [
    "a = 1\n",
    "b = 4\n",
    "error_rate = 0.00001\n",
    "\n",
    "# Symbols for derivative\n",
    "xs = symbols('x')\n",
    "ys = (1 / (1 + xs))"
   ]
  },
  {
   "cell_type": "code",
   "execution_count": 14,
   "id": "6331b0a8-9029-4831-ad5a-dfb733eefc17",
   "metadata": {},
   "outputs": [
    {
     "name": "stdout",
     "output_type": "stream",
     "text": [
      "Error : 0.0000100 didapat dengan memotong grafik sebanyak n : 18 bagian\n"
     ]
    }
   ],
   "source": [
    "def parabolic_rule_find_n(xs, ys):\n",
    "    \n",
    "    # Error\n",
    "    n_final = 0\n",
    "    der = diff(ys, xs, 4)\n",
    "    z = lambdify('x', expr=der)\n",
    "    for n in range(1, 1000000):\n",
    "        error = np.abs(-(b-a)**5 * z(a) / (180 * n**4))\n",
    "        if error <= error_rate:\n",
    "            n_final += n\n",
    "            break\n",
    "    \n",
    "    print(f'Error : {error_rate:.7f} didapat dengan memotong grafik sebanyak n : {n_final} bagian')\n",
    "\n",
    "parabolic_rule_find_n(xs, ys)"
   ]
  },
  {
   "cell_type": "markdown",
   "id": "c979c34e-58df-413c-9e8c-ac96637768ed",
   "metadata": {},
   "source": [
    "## Integral"
   ]
  },
  {
   "cell_type": "code",
   "execution_count": 7,
   "id": "211baed5-f389-4cb0-9967-70e7f0d8ba74",
   "metadata": {},
   "outputs": [
    {
     "data": {
      "text/latex": [
       "$\\displaystyle x^{0.333333333333333} + x^{1.33333333333333}$"
      ],
      "text/plain": [
       "x**0.333333333333333 + x**1.33333333333333"
      ]
     },
     "execution_count": 7,
     "metadata": {},
     "output_type": "execute_result"
    }
   ],
   "source": [
    "from sympy import *\n",
    "x = symbols('x')\n",
    "y = x**(1/3) + x**(4/3)\n",
    "y"
   ]
  },
  {
   "cell_type": "code",
   "execution_count": 9,
   "id": "67c2a98f-a563-4f2a-903a-5381dfbdcb30",
   "metadata": {},
   "outputs": [
    {
     "data": {
      "text/latex": [
       "$\\displaystyle 65.6785714285714$"
      ],
      "text/plain": [
       "65.6785714285714"
      ]
     },
     "execution_count": 9,
     "metadata": {},
     "output_type": "execute_result"
    }
   ],
   "source": [
    "integrate(y, (x, 1, 8))"
   ]
  },
  {
   "cell_type": "markdown",
   "id": "33dbe158-058b-494a-bfd1-ca1eab01333d",
   "metadata": {},
   "source": [
    "## Turunan"
   ]
  },
  {
   "cell_type": "code",
   "execution_count": 2,
   "id": "5081ea71-8ad5-421f-bf17-a0623bf05653",
   "metadata": {},
   "outputs": [],
   "source": [
    "import tensorflow as tf"
   ]
  },
  {
   "cell_type": "code",
   "execution_count": 3,
   "id": "608f9b95-8c7c-47c2-aa9c-a9e90a91208e",
   "metadata": {},
   "outputs": [],
   "source": [
    "a = 0\n",
    "b = 3\n",
    "n = 100\n",
    "x = np.linspace(a, b , n+1)\n",
    "x = tf.constant(x)"
   ]
  },
  {
   "cell_type": "code",
   "execution_count": 749,
   "id": "d829fe06-1125-425e-9913-75e8894e2740",
   "metadata": {},
   "outputs": [
    {
     "data": {
      "image/png": "[encoded data removed]",
      "text/plain": [
       "<Figure size 576x432 with 1 Axes>"
      ]
     },
     "metadata": {
      "needs_background": "light"
     },
     "output_type": "display_data"
    }
   ],
   "source": [
    "with tf.GradientTape() as grad:\n",
    "    grad.watch(x)\n",
    "    y = tf.sin(x) + tf.cos(x)\n",
    "    dy_dx = grad.gradient(y, x)\n",
    "\n",
    "plt.figure(figsize=(8, 6))\n",
    "plt.plot(x, y, label='f (x)', c='red')\n",
    "plt.plot(x, dy_dx, label=\"f ' (x)\", c='green')\n",
    "plt.legend();"
   ]
  },
  {
   "cell_type": "markdown",
   "id": "14d72593-6736-4bc9-ba56-2e4f65fe9478",
   "metadata": {},
   "source": [
    "#### Nilai turunan ketika X = ..."
   ]
  },
  {
   "cell_type": "code",
   "execution_count": 750,
   "id": "be091fd1-9eaf-4872-921d-5f3433d0d5dd",
   "metadata": {},
   "outputs": [
    {
     "name": "stdout",
     "output_type": "stream",
     "text": [
      "Nilai f'(x) ketika x = 0 adalah 1.0\n"
     ]
    }
   ],
   "source": [
    "X = 0\n",
    "\n",
    "loc = np.argmax(x == X)\n",
    "\n",
    "print(f\"Nilai f'(x) ketika x = {X} adalah {dy_dx[loc].numpy()}\")"
   ]
  },
  {
   "cell_type": "markdown",
   "id": "862c5491-55cb-4726-bcda-6d087273649c",
   "metadata": {},
   "source": [
    "## Distance, Velocity, Acceleration"
   ]
  },
  {
   "cell_type": "code",
   "execution_count": 789,
   "id": "45dd36d8-7b68-4ad0-8b99-ec0464aa6984",
   "metadata": {},
   "outputs": [],
   "source": [
    "a = 0 # t = 0s\n",
    "b = 5 # t = 5s\n",
    "n = 100\n",
    "t = np.linspace(a, b , n+1)\n",
    "t = tf.constant(t)"
   ]
  },
  {
   "cell_type": "code",
   "execution_count": 790,
   "id": "e72b4abc-b864-4555-859c-de8ea2da8c2e",
   "metadata": {},
   "outputs": [
    {
     "data": {
      "image/png": "[encoded data removed]",
      "text/plain": [
       "<Figure size 576x432 with 1 Axes>"
      ]
     },
     "metadata": {
      "needs_background": "light"
     },
     "output_type": "display_data"
    }
   ],
   "source": [
    "with tf.GradientTape() as grad:\n",
    "    grad.watch(t)\n",
    "    with tf.GradientTape() as grad_2:\n",
    "        grad_2.watch(t)\n",
    "        y = t**5 + (t-1)**2\n",
    "    dy_dx = grad_2.gradient(y, t)\n",
    "dy2_dx2 = grad.gradient(dy_dx, t)\n",
    "\n",
    "plt.figure(figsize=(8, 6))\n",
    "plt.plot(t, y, label='distance', c='red')\n",
    "plt.plot(t, dy_dx, label=\"velocity\", c='green')\n",
    "plt.plot(t, dy2_dx2, label=\"acceleration\", c='blue')\n",
    "plt.xlabel('Time (t)')\n",
    "\n",
    "plt.legend();"
   ]
  },
  {
   "cell_type": "markdown",
   "id": "67bdfa65-44ff-41f4-96d3-b7bb46665f09",
   "metadata": {},
   "source": [
    "#### Mencari nilai Acceleration, Velocity, Distance jika diberi tahu Time"
   ]
  },
  {
   "cell_type": "code",
   "execution_count": 791,
   "id": "84b01001-d2cc-4653-bac5-8b3219bc2f30",
   "metadata": {},
   "outputs": [
    {
     "name": "stdout",
     "output_type": "stream",
     "text": [
      "\n",
      "Nilai Distance saat t = 3 s adalah 247.0 m\n",
      "Nilai Velocity saat t = 3 s adalah 409.0 m/s\n",
      "Nilai Acceleration saat t = 3 s adalah 542.0 m/s2\n",
      "\n"
     ]
    }
   ],
   "source": [
    "time = 3\n",
    "\n",
    "loc = np.argmax(t == time)\n",
    "\n",
    "print(f\"\"\"\n",
    "Nilai Distance saat t = {time} s adalah {y[loc]} m\n",
    "Nilai Velocity saat t = {time} s adalah {dy_dx[loc]} m/s\n",
    "Nilai Acceleration saat t = {time} s adalah {dy2_dx2[loc]} m/s2\n",
    "\"\"\")"
   ]
  },
  {
   "cell_type": "markdown",
   "id": "62952018-c54b-4f9e-87c1-0fad9b042ae1",
   "metadata": {},
   "source": [
    "## Luas diantara 2 kurva (y = mx + c)"
   ]
  },
  {
   "cell_type": "code",
   "execution_count": 11,
   "id": "f34a7bf9-c560-47c1-8ed4-cdbb66c435ca",
   "metadata": {},
   "outputs": [],
   "source": [
    "a = -5\n",
    "b = 6\n",
    "n = 1000\n",
    "x = np.linspace(a, b , n+1)\n",
    "\n",
    "f = lambda x: 2 * (x**0.5)\n",
    "g = lambda x: 5/2 - x/2"
   ]
  },
  {
   "cell_type": "code",
   "execution_count": 12,
   "id": "83a4fcc0-7314-49ad-9233-395f7c10ff05",
   "metadata": {},
   "outputs": [
    {
     "name": "stderr",
     "output_type": "stream",
     "text": [
      "C:\\Users\\Acer\\AppData\\Local\\Temp/ipykernel_2120/411775987.py:6: RuntimeWarning: invalid value encountered in sqrt\n",
      "  f = lambda x: 2 * (x**0.5)\n"
     ]
    },
    {
     "data": {
      "text/plain": [
       "[<matplotlib.lines.Line2D at 0x207c6393af0>]"
      ]
     },
     "execution_count": 12,
     "metadata": {},
     "output_type": "execute_result"
    },
    {
     "data": {
      "image/png": "[encoded data removed]",
      "text/plain": [
       "<Figure size 576x432 with 1 Axes>"
      ]
     },
     "metadata": {},
     "output_type": "display_data"
    }
   ],
   "source": [
    "sns.set_style('whitegrid')\n",
    "fig, ax = plt.subplots(figsize=(8, 6))\n",
    "\n",
    "ax.spines['left'].set_position('zero')\n",
    "ax.spines['bottom'].set_position('zero')\n",
    "\n",
    "ax.plot(x, f(x))\n",
    "ax.plot(x, g(x))"
   ]
  },
  {
   "cell_type": "code",
   "execution_count": 10,
   "id": "b14088bb-9d35-4196-b918-bf450fc55294",
   "metadata": {},
   "outputs": [
    {
     "name": "stdout",
     "output_type": "stream",
     "text": [
      "600\n"
     ]
    },
    {
     "name": "stderr",
     "output_type": "stream",
     "text": [
      "C:\\Users\\Acer\\AppData\\Local\\Temp/ipykernel_2120/657815042.py:6: RuntimeWarning: invalid value encountered in sqrt\n",
      "  f = lambda x: 2 * (x**0.5)\n"
     ]
    },
    {
     "ename": "TypeError",
     "evalue": "object of type 'int' has no len()",
     "output_type": "error",
     "traceback": [
      "\u001b[1;31m---------------------------------------------------------------------------\u001b[0m",
      "\u001b[1;31mTypeError\u001b[0m                                 Traceback (most recent call last)",
      "\u001b[1;32m~\\AppData\\Local\\Temp/ipykernel_2120/1061230417.py\u001b[0m in \u001b[0;36m<module>\u001b[1;34m\u001b[0m\n\u001b[0;32m     44\u001b[0m \u001b[1;33m\u001b[0m\u001b[0m\n\u001b[0;32m     45\u001b[0m \u001b[1;33m\u001b[0m\u001b[0m\n\u001b[1;32m---> 46\u001b[1;33m \u001b[0marea_between\u001b[0m\u001b[1;33m(\u001b[0m\u001b[0mx\u001b[0m\u001b[1;33m,\u001b[0m \u001b[0mf\u001b[0m\u001b[1;33m(\u001b[0m\u001b[0mx\u001b[0m\u001b[1;33m)\u001b[0m\u001b[1;33m,\u001b[0m \u001b[0mg\u001b[0m\u001b[1;33m(\u001b[0m\u001b[0mx\u001b[0m\u001b[1;33m)\u001b[0m\u001b[1;33m)\u001b[0m\u001b[1;33m\u001b[0m\u001b[1;33m\u001b[0m\u001b[0m\n\u001b[0m",
      "\u001b[1;32m~\\AppData\\Local\\Temp/ipykernel_2120/1061230417.py\u001b[0m in \u001b[0;36marea_between\u001b[1;34m(x, y, g)\u001b[0m\n\u001b[0;32m      8\u001b[0m     \u001b[0mloc\u001b[0m \u001b[1;33m=\u001b[0m  \u001b[0mnp\u001b[0m\u001b[1;33m.\u001b[0m\u001b[0msqueeze\u001b[0m\u001b[1;33m(\u001b[0m\u001b[0mnp\u001b[0m\u001b[1;33m.\u001b[0m\u001b[0margwhere\u001b[0m\u001b[1;33m(\u001b[0m\u001b[0mnp\u001b[0m\u001b[1;33m.\u001b[0m\u001b[0misclose\u001b[0m\u001b[1;33m(\u001b[0m\u001b[0my\u001b[0m\u001b[1;33m,\u001b[0m \u001b[0mg\u001b[0m\u001b[1;33m,\u001b[0m \u001b[0mrtol\u001b[0m\u001b[1;33m=\u001b[0m\u001b[1;36m10\u001b[0m\u001b[1;33m**\u001b[0m\u001b[1;33m(\u001b[0m\u001b[1;33m-\u001b[0m\u001b[1;36m2.8\u001b[0m\u001b[1;33m)\u001b[0m\u001b[1;33m,\u001b[0m \u001b[0matol\u001b[0m\u001b[1;33m=\u001b[0m\u001b[1;36m10\u001b[0m\u001b[1;33m**\u001b[0m\u001b[1;33m(\u001b[0m\u001b[1;33m-\u001b[0m\u001b[1;36m2.8\u001b[0m\u001b[1;33m)\u001b[0m\u001b[1;33m)\u001b[0m\u001b[1;33m)\u001b[0m\u001b[1;33m)\u001b[0m\u001b[1;33m.\u001b[0m\u001b[0mtolist\u001b[0m\u001b[1;33m(\u001b[0m\u001b[1;33m)\u001b[0m\u001b[1;33m\u001b[0m\u001b[1;33m\u001b[0m\u001b[0m\n\u001b[0;32m      9\u001b[0m     \u001b[0mprint\u001b[0m\u001b[1;33m(\u001b[0m\u001b[0mloc\u001b[0m\u001b[1;33m)\u001b[0m\u001b[1;33m\u001b[0m\u001b[1;33m\u001b[0m\u001b[0m\n\u001b[1;32m---> 10\u001b[1;33m     \u001b[1;32massert\u001b[0m \u001b[0mlen\u001b[0m\u001b[1;33m(\u001b[0m\u001b[0mloc\u001b[0m\u001b[1;33m)\u001b[0m \u001b[1;33m==\u001b[0m \u001b[1;36m2\u001b[0m\u001b[1;33m\u001b[0m\u001b[1;33m\u001b[0m\u001b[0m\n\u001b[0m\u001b[0;32m     11\u001b[0m     \u001b[0mprint\u001b[0m\u001b[1;33m(\u001b[0m\u001b[1;34mf'Grafik berpotongan di titik x = {x[loc[0]]} dan x = {x[loc[1]]}'\u001b[0m\u001b[1;33m)\u001b[0m\u001b[1;33m\u001b[0m\u001b[1;33m\u001b[0m\u001b[0m\n\u001b[0;32m     12\u001b[0m \u001b[1;33m\u001b[0m\u001b[0m\n",
      "\u001b[1;31mTypeError\u001b[0m: object of type 'int' has no len()"
     ]
    },
    {
     "data": {
      "image/png": "[encoded data removed]",
      "text/plain": [
       "<Figure size 432x288 with 1 Axes>"
      ]
     },
     "metadata": {},
     "output_type": "display_data"
    }
   ],
   "source": [
    "def area_between(x, y, g):\n",
    "    luas_besar = 0\n",
    "    luas_besar_list = []\n",
    "    \n",
    "    plt.plot(x, y, c='red')\n",
    "    plt.plot(x, g, c='blue')\n",
    "    \n",
    "    loc =  np.squeeze(np.argwhere(np.isclose(y, g, rtol=10**(-2.8), atol=10**(-2.8)))).tolist()\n",
    "    print(loc)\n",
    "    assert len(loc) == 2\n",
    "    print(f'Grafik berpotongan di titik x = {x[loc[0]]} dan x = {x[loc[1]]}')\n",
    "    \n",
    "    for i in range(loc[0], loc[1]):\n",
    "        if y[i] >= g[i]:\n",
    "            y_max_before = y[i]\n",
    "            y_min_before = g[i]\n",
    "            y_max_after = y[i+1]\n",
    "            y_min_after = g[i+1]\n",
    "            distance_before = y_max_after - y_min_before # Use y max after to make trapesium\n",
    "            distance_after = y_max_after - y_min_after\n",
    "            luas = 0.5 * (distance_after + distance_before) * (x[i+1] - x[i])\n",
    "            luas_besar += luas\n",
    "            luas_besar_list.append(luas)\n",
    "            \n",
    "        else:\n",
    "            y_max_before = g[i]\n",
    "            y_min_before = y[i]\n",
    "            y_max_after = g[i+1]\n",
    "            y_min_after = y[i+1]\n",
    "            distance_before = y_max_after - y_min_before # Use y max after to make trapesium\n",
    "            distance_after = y_max_after - y_min_after\n",
    "            luas = 0.5 * (distance_after + distance_before) * (x[i+1] - x[i])\n",
    "            luas_besar += luas\n",
    "            luas_besar_list.append(luas)\n",
    "        \n",
    "        plt.vlines(x=x[i], ymax=y_max_after, ymin=y_max_before)\n",
    "        plt.vlines(x=x[i+1], ymax=y_max_after, ymin=y_min_after)\n",
    "        plt.hlines(y=y_max_after, xmin=x[i], xmax=x[i+1])\n",
    "        \n",
    "        \n",
    "    plt.show()\n",
    "    \n",
    "    print(f'Luas Area diantara 2 kurva adalah {luas_besar}')\n",
    "    \n",
    "\n",
    "area_between(x, f(x), g(x))"
   ]
  },
  {
   "cell_type": "code",
   "execution_count": 1162,
   "id": "76fbbb3b-435b-41e0-9657-4556dca1771e",
   "metadata": {},
   "outputs": [
    {
     "name": "stdout",
     "output_type": "stream",
     "text": [
      "[92, 970]\n",
      "Grafik berpotongan di titik x = -4.233333333333333 dan x = 3.083333333333334\n"
     ]
    },
    {
     "data": {
      "image/png": "[encoded data removed]",
      "text/plain": [
       "<Figure size 432x288 with 1 Axes>"
      ]
     },
     "metadata": {
      "needs_background": "light"
     },
     "output_type": "display_data"
    },
    {
     "name": "stdout",
     "output_type": "stream",
     "text": [
      "Luas Area diantara 2 kurva adalah 84.52408142519337\n"
     ]
    }
   ],
   "source": [
    "a = -5\n",
    "b = 5\n",
    "n = 1200\n",
    "x = np.linspace(a, b , n+1)\n",
    "\n",
    "f = lambda x: 2**x - 20\n",
    "g = lambda x: -x**2 - 2\n",
    "\n",
    "area_between(x, f(x), g(x))"
   ]
  },
  {
   "cell_type": "code",
   "execution_count": 1175,
   "id": "a0a0c305-22ae-4deb-b7f5-ff557952f473",
   "metadata": {},
   "outputs": [
    {
     "name": "stdout",
     "output_type": "stream",
     "text": [
      "[2077, 7414]\n",
      "Grafik berpotongan di titik x = -2.923 dan x = 2.4140000000000006\n"
     ]
    },
    {
     "data": {
      "image/png": "[encoded data removed]",
      "text/plain": [
       "<Figure size 432x288 with 1 Axes>"
      ]
     },
     "metadata": {
      "needs_background": "light"
     },
     "output_type": "display_data"
    },
    {
     "name": "stdout",
     "output_type": "stream",
     "text": [
      "Luas Area diantara 2 kurva adalah 206.8462115698459\n"
     ]
    }
   ],
   "source": [
    "a = -5\n",
    "b = 5\n",
    "n = 10000\n",
    "x = np.linspace(a, b , n+1)\n",
    "\n",
    "f = lambda x: x**4 - 50\n",
    "g = lambda x: -x**3 - 2\n",
    "\n",
    "area_between(x, f(x), g(x))"
   ]
  },
  {
   "cell_type": "code",
   "execution_count": 1208,
   "id": "41119051-d041-4c77-b9ba-ca6e4eef1c99",
   "metadata": {},
   "outputs": [
    {
     "name": "stdout",
     "output_type": "stream",
     "text": [
      "[250, 625]\n",
      "Grafik berpotongan di titik x = -2.0 dan x = 1.0\n"
     ]
    },
    {
     "data": {
      "image/png": "[encoded data removed]",
      "text/plain": [
       "<Figure size 432x288 with 1 Axes>"
      ]
     },
     "metadata": {
      "needs_background": "light"
     },
     "output_type": "display_data"
    },
    {
     "name": "stdout",
     "output_type": "stream",
     "text": [
      "Luas Area diantara 2 kurva adalah 4.511680767999999\n"
     ]
    }
   ],
   "source": [
    "a = -4\n",
    "b = 4\n",
    "n = 1000\n",
    "x = np.linspace(a, b , n+1)\n",
    "\n",
    "f = lambda x: x\n",
    "g = lambda x: 2 - x**2\n",
    "\n",
    "area_between(x, f(x), g(x))"
   ]
  },
  {
   "cell_type": "markdown",
   "id": "0f96cab5-70cc-47db-9bcc-4ed92c29d997",
   "metadata": {},
   "source": [
    "## Area between (x = ..y + c)"
   ]
  },
  {
   "cell_type": "code",
   "execution_count": 28,
   "id": "dd0dc713-0ce9-4c14-b565-c6ad507b1681",
   "metadata": {},
   "outputs": [],
   "source": [
    "a = -5\n",
    "b = 5\n",
    "n = 1000 \n",
    "y = np.linspace(a, b, n+1)\n",
    "x1 = lambda y: 1 / (y**2)\n",
    "x2 = lambda y: np.array([1 for i in y]) # x = 1\n",
    "x3 = lambda y: np.array([4 for i in y]) # x = 4"
   ]
  },
  {
   "cell_type": "code",
   "execution_count": 29,
   "id": "9da9e1ce-37c1-4bb6-8d1c-7012ef37a76b",
   "metadata": {},
   "outputs": [
    {
     "name": "stderr",
     "output_type": "stream",
     "text": [
      "C:\\Users\\Acer\\AppData\\Local\\Temp/ipykernel_7132/1736215246.py:5: RuntimeWarning: invalid value encountered in sqrt\n",
      "  x1 = lambda y: y**(0.5)\n"
     ]
    },
    {
     "name": "stdout",
     "output_type": "stream",
     "text": [
      "[500, 900]\n",
      "Grafik berpotongan di titik y = 0.0 dan y = 4.0\n"
     ]
    },
    {
     "data": {
      "image/png": "[encoded data removed]",
      "text/plain": [
       "<Figure size 432x288 with 1 Axes>"
      ]
     },
     "metadata": {},
     "output_type": "display_data"
    },
    {
     "name": "stdout",
     "output_type": "stream",
     "text": [
      "Luas Area diantara 2 kurva adalah 2.666452530441524\n"
     ]
    }
   ],
   "source": [
    "def area_between(x1, x2, y):\n",
    "    luas_besar = 0\n",
    "    luas_besar_list = []\n",
    "    \n",
    "    plt.plot(x1, y, c='red')\n",
    "    plt.plot(x2, y, c='blue')\n",
    "    \n",
    "    loc =  np.squeeze(np.argwhere(np.isclose(x1, x2, rtol=10**(-5), atol=10**(-5)))).tolist()\n",
    "    print(loc)\n",
    "    assert len(loc) == 2\n",
    "    print(f'Grafik berpotongan di titik y = {y[loc[0]]} dan y = {y[loc[1]]}')\n",
    "    \n",
    "    for i in range(loc[0], loc[1]):\n",
    "        if x1[i] >= x2[i]:\n",
    "            x_max_before = x1[i]\n",
    "            x_min_before = x2[i]\n",
    "            x_max_after = x1[i+1]\n",
    "            x_min_after = x2[i+1]\n",
    "            distance = y[i+1] - y[i]\n",
    "            luas = (x_max_before - x_min_before) * distance\n",
    "            luas_besar += luas\n",
    "            luas_besar_list.append(luas)\n",
    "            \n",
    "        else:\n",
    "            x_max_before = x2[i]\n",
    "            x_min_before = x1[i]\n",
    "            x_max_after = x2[i+1]\n",
    "            x_min_after = x1[i+1]\n",
    "            distance = y[i+1] - y[i]\n",
    "            luas = (x_max_before - x_min_before) * distance\n",
    "            luas_besar += luas\n",
    "            luas_besar_list.append(luas)\n",
    "            pass\n",
    "        \n",
    "        plt.hlines(y=y[i], xmax=x_max_before, xmin=x_min_before)\n",
    "        plt.hlines(y=y[i+1], xmax=x_max_before, xmin=x_min_before)\n",
    "        plt.vlines(x=x_max_before, ymax=y[i+1], ymin=y[i])\n",
    "        \n",
    "        \n",
    "    plt.show()\n",
    "    \n",
    "    print(f'Luas Area diantara 2 kurva adalah {luas_besar}')\n",
    "    \n",
    "\n",
    "area_between(x1=x1(y), x2=x2(y), y=y)"
   ]
  },
  {
   "cell_type": "markdown",
   "id": "90364e8f-33b4-40ff-a63e-5986170e7ab6",
   "metadata": {},
   "source": [
    "## Volume Benda Putar (X-Axis) Vertical Slicing (dx)"
   ]
  },
  {
   "cell_type": "code",
   "execution_count": 290,
   "id": "8eceec6e-9c3b-410d-8b87-7df8700f7f2f",
   "metadata": {},
   "outputs": [],
   "source": [
    "a = 0\n",
    "b = 3\n",
    "n = 10000\n",
    "x = np.linspace(a, b , n+1)\n",
    "\n",
    "f = lambda x: 3 + 2*x - x**2\n",
    "g = lambda x: np.array([0 for i in x]) # y = 0"
   ]
  },
  {
   "cell_type": "code",
   "execution_count": 256,
   "id": "145a60da-fbb0-4669-a1b4-ab0d248c4714",
   "metadata": {},
   "outputs": [
    {
     "data": {
      "image/png": "[encoded data removed]",
      "text/plain": [
       "<Figure size 432x288 with 1 Axes>"
      ]
     },
     "metadata": {},
     "output_type": "display_data"
    },
    {
     "data": {
      "text/plain": [
       "96.13274933703683"
      ]
     },
     "execution_count": 256,
     "metadata": {},
     "output_type": "execute_result"
    }
   ],
   "source": [
    "volume_benda_putar_x_slab(x, f, g)"
   ]
  },
  {
   "cell_type": "code",
   "execution_count": 293,
   "id": "970f65f0-7092-4e35-92ef-6236c3dc39c4",
   "metadata": {},
   "outputs": [
    {
     "data": {
      "image/png": "[encoded data removed]",
      "text/plain": [
       "<Figure size 432x288 with 1 Axes>"
      ]
     },
     "metadata": {},
     "output_type": "display_data"
    },
    {
     "name": "stdout",
     "output_type": "stream",
     "text": [
      "96.1369760671865\n"
     ]
    }
   ],
   "source": [
    "def volume_benda_putar_dx_thd_y(x, f, g, thd_y):\n",
    "    luas_besar = 0\n",
    "    luas_besar_list = []\n",
    "    \n",
    "    \n",
    "    d = 0\n",
    "    if np.abs(f[0] - thd_y) <= np.abs(g[0] - thd_y): # distance dari x1 lebih dekat\n",
    "        d = np.abs(f[0] - thd_y)\n",
    "    else:\n",
    "        d = np.abs(g[0] - thd_y)\n",
    "        \n",
    "    plt.plot(x, f, c='red')\n",
    "    plt.plot(x, g, c='red')\n",
    "    plt.plot(x, -f-d, c='red')\n",
    "    plt.plot(x, -g-d, c='red')\n",
    "    \n",
    "    for i in range(len(x)-1):\n",
    "        if f[i] >= g[i]:\n",
    "            y_max_before = f[i]\n",
    "            y_min_before = g[i]\n",
    "            y_max_after = f[i+1]\n",
    "            y_min_after = g[i+1]\n",
    "            distance = x[i+1] - x[i]\n",
    "            luas = (np.pi * (d + y_max_before - y_min_before)**2 * distance) - (np.pi * (d**2) * distance)\n",
    "            luas_besar += luas\n",
    "            luas_besar_list.append(luas)\n",
    "            \n",
    "        else:\n",
    "            y_max_before = g[i]\n",
    "            y_min_before = f[i]\n",
    "            y_max_after = g[i+1]\n",
    "            y_min_after = f[i+1]\n",
    "            distance = x[i+1] - x[i]\n",
    "            luas = (np.pi * (d + y_max_before - y_min_before)**2 * distance) - (np.pi * (d**2) * distance)\n",
    "            luas_besar += luas\n",
    "            luas_besar_list.append(luas)\n",
    "            pass\n",
    "      \n",
    "        plt.vlines(x=x[i], ymin=y_min_before, ymax=y_max_before, colors='green')\n",
    "        plt.vlines(x=x[i+1], ymin=y_min_before, ymax=y_max_before, colors='green')\n",
    "        plt.vlines(x=x[i], ymin=-y_min_before -d, ymax=-y_max_before -d, colors='green')\n",
    "        plt.vlines(x=x[i+1], ymin=-y_min_before -d, ymax=-y_max_before -d, colors='green')\n",
    "        plt.hlines(y=y_max_before, xmin=x[i], xmax=x[i+1], colors='green')\n",
    "        plt.hlines(y=-y_max_before -d, xmin=x[i], xmax=x[i+1], colors='green')\n",
    "        \n",
    "    \n",
    "        \n",
    "    plt.show()\n",
    "    \n",
    "    print(luas_besar)\n",
    "    \n",
    "\n",
    "volume_benda_putar_dx_thd_y(x=x, f=f(x), g=g(x), thd_y=0)"
   ]
  },
  {
   "cell_type": "code",
   "execution_count": 184,
   "id": "1041b6c2-ea4c-42f0-bdcf-75763e98ab45",
   "metadata": {},
   "outputs": [
    {
     "data": {
      "image/png": "[encoded data removed]",
      "text/plain": [
       "<Figure size 432x288 with 1 Axes>"
      ]
     },
     "metadata": {},
     "output_type": "display_data"
    },
    {
     "data": {
      "text/plain": [
       "30.15930622961991"
      ]
     },
     "execution_count": 184,
     "metadata": {},
     "output_type": "execute_result"
    }
   ],
   "source": [
    "def volume_benda_putar_x_slab(x, y, g):\n",
    "    x_tengah = np.mean([(x[i+1] - x[i])/2 for i in range(len(x)-1)])\n",
    "    x_new = [i + x_tengah for i in np.array(x)]\n",
    "    y_new = f(np.array(x_new))\n",
    "    g_new = g(np.array(x_new))\n",
    "    luas_besar = 0\n",
    "    luas_besar_list = []\n",
    "    \n",
    "    plt.plot(x, y_new, c='red')\n",
    "    plt.plot(x, g_new, c='red')\n",
    "    plt.plot(x, -y_new, c='red')\n",
    "    plt.plot(x, -g_new, c='red')\n",
    "    \n",
    "    for i in range(len(x)-1):\n",
    "        if g_new[i] > y_new[i]:\n",
    "            luas_kecil = np.pi * ((g_new[i]**2) - (y_new[i]**2)) * (x[i+1] - x[i]) # np.pi * r^2 * dx\n",
    "            upper = g_new\n",
    "            lower = y_new\n",
    "            luas_besar += luas_kecil\n",
    "            luas_besar_list.append(luas_kecil)\n",
    "        else:\n",
    "            luas_kecil = np.pi * ((y_new[i]**2) - (g_new[i]**2)) * (x[i+1] - x[i]) # np.pi * r^2 * dx\n",
    "            upper = y_new\n",
    "            lower = g_new\n",
    "            luas_besar += luas_kecil\n",
    "            luas_besar_list.append(luas_kecil)\n",
    "            \n",
    "        plt.vlines(x=x[i], ymax=upper[i], ymin=lower[i], colors='green')\n",
    "        plt.vlines(x=x[i+1], ymax=upper[i], ymin=lower[i], colors='green')\n",
    "        plt.vlines(x=x[i], ymax=-upper[i], ymin=-lower[i], colors='green')\n",
    "        plt.vlines(x=x[i+1], ymax=-upper[i], ymin=-lower[i], colors='green')\n",
    "        \n",
    "        plt.hlines(y=upper[i], xmax=x[i+1], xmin=x[i], colors='green')\n",
    "        plt.hlines(y=lower[i], xmax=x[i+1], xmin=x[i], colors='green')\n",
    "        plt.hlines(y=-upper[i], xmax=x[i+1], xmin=x[i], colors='green')\n",
    "        plt.hlines(y=-lower[i], xmax=x[i+1], xmin=x[i], colors='green')\n",
    "        \n",
    "    plt.show()\n",
    "    \n",
    "    return luas_besar\n",
    "       \n",
    "volume_benda_putar_x_slab(x, f, g)"
   ]
  },
  {
   "cell_type": "code",
   "execution_count": 123,
   "id": "ab702a9a-daa4-4e92-8809-0cc217764e65",
   "metadata": {},
   "outputs": [],
   "source": [
    "a = 0\n",
    "b = 4\n",
    "n = 1000\n",
    "x = np.linspace(a, b , n+1)\n",
    "\n",
    "f = lambda x: x**(0.5)\n",
    "g = lambda x: np.array([0 for i in x])  # y = 0"
   ]
  },
  {
   "cell_type": "code",
   "execution_count": 127,
   "id": "d9c331e3-a709-4b66-8451-67e089fc0306",
   "metadata": {},
   "outputs": [
    {
     "data": {
      "image/png": "[encoded data removed]",
      "text/plain": [
       "<Figure size 432x288 with 1 Axes>"
      ]
     },
     "metadata": {},
     "output_type": "display_data"
    },
    {
     "data": {
      "text/plain": [
       "25.132741228718345"
      ]
     },
     "execution_count": 127,
     "metadata": {},
     "output_type": "execute_result"
    }
   ],
   "source": [
    "volume_benda_putar_x_slab(x, f, g)"
   ]
  },
  {
   "cell_type": "code",
   "execution_count": 131,
   "id": "d34d1fb3-8e28-4ba5-9b76-38e34e8218e4",
   "metadata": {},
   "outputs": [],
   "source": [
    "a = 0\n",
    "b = 3\n",
    "n = 1000\n",
    "x = np.linspace(a, b , n+1)\n",
    "\n",
    "f = lambda x: 3 + 2*x - x**2\n",
    "g = lambda x: np.array([0 for i in x]) # y = 0"
   ]
  },
  {
   "cell_type": "code",
   "execution_count": 132,
   "id": "d7c08041-e650-4b2d-a82a-6399811e9871",
   "metadata": {},
   "outputs": [
    {
     "data": {
      "image/png": "[encoded data removed]",
      "text/plain": [
       "<Figure size 432x288 with 1 Axes>"
      ]
     },
     "metadata": {},
     "output_type": "display_data"
    },
    {
     "data": {
      "text/plain": [
       "96.13274933703683"
      ]
     },
     "execution_count": 132,
     "metadata": {},
     "output_type": "execute_result"
    }
   ],
   "source": [
    "volume_benda_putar_x_slab(x, f, g)"
   ]
  },
  {
   "cell_type": "markdown",
   "id": "bdc8964a-ff25-40c5-835b-0024b8945956",
   "metadata": {},
   "source": [
    "## Volume Benda Putar (Y-Axis) Horizontal Slicing (dy)"
   ]
  },
  {
   "cell_type": "code",
   "execution_count": 165,
   "id": "7144db23-5707-47f4-9498-8097deae2375",
   "metadata": {},
   "outputs": [],
   "source": [
    "a = 0\n",
    "b = 10\n",
    "n = 1000\n",
    "y = np.linspace(a, b, n+1)\n",
    "x1 = lambda y: 10/4 * y\n",
    "x2 = lambda y: np.array([0 for i in range(len(y))])"
   ]
  },
  {
   "cell_type": "code",
   "execution_count": 166,
   "id": "46291989-b780-47ec-874c-45cdf34344ec",
   "metadata": {},
   "outputs": [
    {
     "data": {
      "image/png": "[encoded data removed]",
      "text/plain": [
       "<Figure size 432x288 with 1 Axes>"
      ]
     },
     "metadata": {},
     "output_type": "display_data"
    },
    {
     "name": "stdout",
     "output_type": "stream",
     "text": [
      "6535.170490428612\n"
     ]
    }
   ],
   "source": [
    "def volume_benda_putar_y(x1, x2, y):\n",
    "    luas_besar = 0\n",
    "    luas_besar_list = []\n",
    "    \n",
    "    plt.plot(x1, y, c='red')\n",
    "    plt.plot(x2, y, c='black')\n",
    "    plt.plot(-x1, y, c='red')\n",
    "    \n",
    "    for i in range(len(y)-1):\n",
    "        if x1[i] >= x2[i]:\n",
    "            x_max_before = x1[i]\n",
    "            x_min_before = x2[i]\n",
    "            x_max_after = x1[i+1]\n",
    "            x_min_after = x2[i+1]\n",
    "            distance = y[i+1] - y[i]\n",
    "            luas = np.pi * ((x_max_before - x_min_before)**2) * distance\n",
    "            luas_besar += luas\n",
    "            luas_besar_list.append(luas)\n",
    "            \n",
    "        else:\n",
    "            x_max_before = x2[i]\n",
    "            x_min_before = x1[i]\n",
    "            x_max_after = x2[i+1]\n",
    "            x_min_after = x1[i+1]\n",
    "            distance = y[i+1] - y[i]\n",
    "            luas = np.pi * ((x_max_before - x_min_before)**2) * distance\n",
    "            luas_besar += luas\n",
    "            luas_besar_list.append(luas)\n",
    "            pass\n",
    "        \n",
    "        plt.hlines(y=y[i], xmax=x_max_before, xmin=x_min_before)\n",
    "        plt.hlines(y=y[i+1], xmax=x_max_before, xmin=x_min_before)\n",
    "        plt.hlines(y=y[i], xmax=-x_max_before, xmin=-x_min_before)\n",
    "        plt.hlines(y=y[i+1], xmax=-x_max_before, xmin=-x_min_before)\n",
    "        plt.vlines(x=x_max_before, ymax=y[i+1], ymin=y[i])\n",
    "        \n",
    "        \n",
    "    plt.show()\n",
    "    \n",
    "    print(luas_besar)\n",
    "    \n",
    "\n",
    "volume_benda_putar_y(x1=x1(y), x2=x2(y), y=y)"
   ]
  },
  {
   "cell_type": "code",
   "execution_count": 63,
   "id": "3bfcb0c9-ef4c-4729-9718-2bf272761eea",
   "metadata": {},
   "outputs": [],
   "source": [
    "a = -2\n",
    "b = 2\n",
    "n = 1000\n",
    "y = np.linspace(a, b, n+1)\n",
    "x1 = lambda y: (4 - y**2)**(0.5)\n",
    "x2 = lambda y: [0 for i in range(len(y))] # x = 0"
   ]
  },
  {
   "cell_type": "code",
   "execution_count": 64,
   "id": "e7c40798-00fe-4011-b284-cbdd271d2d87",
   "metadata": {},
   "outputs": [
    {
     "data": {
      "image/png": "[encoded data removed]",
      "text/plain": [
       "<Figure size 432x288 with 1 Axes>"
      ]
     },
     "metadata": {},
     "output_type": "display_data"
    },
    {
     "name": "stdout",
     "output_type": "stream",
     "text": [
      "33.51028812796944\n"
     ]
    }
   ],
   "source": [
    "volume_benda_putar_y(x1=x1(y), x2=x2(y), y=y)"
   ]
  },
  {
   "cell_type": "code",
   "execution_count": 10,
   "id": "9129f4e9-2811-44c2-a1f7-8f5e884a876e",
   "metadata": {},
   "outputs": [],
   "source": [
    "a = 0\n",
    "b = 4\n",
    "n = 1000\n",
    "y = np.linspace(a, b, n+1)\n",
    "x1 = lambda y: 10000 * np.pi * (y**2 /16) * (4-y)\n",
    "x2 = lambda y: np.array([0 for i in y]) # x = 0"
   ]
  },
  {
   "cell_type": "code",
   "execution_count": 11,
   "id": "176efbd4-5075-4dc1-887f-1cec4d3fc9c6",
   "metadata": {},
   "outputs": [
    {
     "data": {
      "image/png": "[encoded data removed]",
      "text/plain": [
       "<Figure size 432x288 with 1 Axes>"
      ]
     },
     "metadata": {
      "needs_background": "light"
     },
     "output_type": "display_data"
    },
    {
     "name": "stdout",
     "output_type": "stream",
     "text": [
      "1889906388.125946\n"
     ]
    }
   ],
   "source": [
    "def volume_benda_putar_dy_thd_x(x1, x2, y, thd_x):\n",
    "    luas_besar = 0\n",
    "    luas_besar_list = []\n",
    "    \n",
    "    \n",
    "    d = 0\n",
    "    if np.abs(x1[0] - thd_x) <= np.abs(x2[0] - thd_x): # distance dari x1 lebih dekat\n",
    "        d = np.abs(x1[0] - thd_x)\n",
    "    else:\n",
    "        d = np.abs(x2[0] - thd_x)\n",
    "        \n",
    "    plt.plot(x1, y, c='red')\n",
    "    plt.plot(x2, y, c='black')\n",
    "    plt.plot(x2-d, y, c='black')\n",
    "    plt.plot(-x1-d, y, c='red')\n",
    "    \n",
    "    for i in range(len(y)-1):\n",
    "        if x1[i] >= x2[i]:\n",
    "            x_max_before = x1[i]\n",
    "            x_min_before = x2[i]\n",
    "            x_max_after = x1[i+1]\n",
    "            x_min_after = x2[i+1]\n",
    "            distance = y[i+1] - y[i]\n",
    "            luas = (np.pi * (d + x_max_before - x_min_before)**2 * distance) - (np.pi * (d**2) * distance)\n",
    "            luas_besar += luas\n",
    "            luas_besar_list.append(luas)\n",
    "            \n",
    "        else:\n",
    "            x_max_before = x2[i]\n",
    "            x_min_before = x1[i]\n",
    "            x_max_after = x2[i+1]\n",
    "            x_min_after = x1[i+1]\n",
    "            distance = y[i+1] - y[i]\n",
    "            luas = (np.pi * (d + x_max_before - x_min_before)**2 * distance) - (np.pi * (d**2) * distance)\n",
    "            luas_besar += luas\n",
    "            luas_besar_list.append(luas)\n",
    "            pass\n",
    "        \n",
    "        plt.hlines(y=y[i], xmax=x_max_before, xmin=x_min_before)\n",
    "        plt.hlines(y=y[i+1], xmax=x_max_before, xmin=x_min_before)\n",
    "        plt.hlines(y=y[i], xmax= -x_max_before -d, xmin= -x_min_before -d)\n",
    "        plt.hlines(y=y[i+1], xmax= -x_max_before -d, xmin= -x_min_before -d)\n",
    "        plt.vlines(x=x_max_before, ymax=y[i+1], ymin=y[i])\n",
    "        plt.vlines(x=-x_max_before-d, ymax=y[i+1], ymin=y[i])\n",
    "        \n",
    "        \n",
    "    plt.show()\n",
    "    \n",
    "    print(luas_besar)\n",
    "    \n",
    "\n",
    "volume_benda_putar_dy_thd_x(x1=x1(y), x2=x2(y), y=y, thd_x=0)"
   ]
  },
  {
   "cell_type": "code",
   "execution_count": 67,
   "id": "cc8a9a0e-22ae-49e1-a739-bf68c1887b7a",
   "metadata": {},
   "outputs": [
    {
     "data": {
      "image/png": "[encoded data removed]",
      "text/plain": [
       "<Figure size 432x288 with 1 Axes>"
      ]
     },
     "metadata": {},
     "output_type": "display_data"
    },
    {
     "name": "stdout",
     "output_type": "stream",
     "text": [
      "33.51031791492213\n"
     ]
    }
   ],
   "source": [
    "volume_benda_putar_dy_thd_x(x1=x1(y), x2=x2(y), y=y, thd_x=0)"
   ]
  },
  {
   "cell_type": "code",
   "execution_count": 68,
   "id": "7fa3dd20-f196-4802-99e7-455e7d627ff0",
   "metadata": {},
   "outputs": [
    {
     "data": {
      "image/png": "[encoded data removed]",
      "text/plain": [
       "<Figure size 432x288 with 1 Axes>"
      ]
     },
     "metadata": {},
     "output_type": "display_data"
    },
    {
     "name": "stdout",
     "output_type": "stream",
     "text": [
      "112.46664438490896\n"
     ]
    }
   ],
   "source": [
    "volume_benda_putar_dy_thd_x(x1=x1(y), x2=x2(y), y=y, thd_x=-2)"
   ]
  },
  {
   "cell_type": "markdown",
   "id": "2c7526a1-b17d-4958-ad12-00d952a3a574",
   "metadata": {},
   "source": [
    "## Method of Shells (dipotong sejajar sb-x (dx) diputar thd sb-y)"
   ]
  },
  {
   "cell_type": "code",
   "execution_count": 32,
   "id": "2f1946e0-7e6b-4a39-98e2-f1ccaaf0f3f6",
   "metadata": {},
   "outputs": [],
   "source": [
    "a = 1\n",
    "b = 2\n",
    "n = 1000\n",
    "x = np.linspace(a, b , n+1)\n",
    "\n",
    "f = lambda x: 4 - x\n",
    "g = lambda x: [0 for i in x]"
   ]
  },
  {
   "cell_type": "code",
   "execution_count": 33,
   "id": "df5c0997-5de1-47be-abc7-9990c9c4c333",
   "metadata": {},
   "outputs": [],
   "source": [
    "def shell_method_x_neg(x, y, g, thd_x):\n",
    "    luas_besar = 0\n",
    "    luas_besar_list = []\n",
    "    \n",
    "    d = np.abs(x[0] - thd_x)\n",
    "    plt.plot(x, y, c='red')\n",
    "    plt.plot(x, g, c='red')\n",
    "    plt.plot(-x-d, y, c='red')\n",
    "    plt.plot(-x-d, g, c='red')\n",
    "    \n",
    "    for i in range(len(x)-1):\n",
    "        if y[i] >= g[i]:\n",
    "            upper = y\n",
    "            lower = g\n",
    "            luas_kecil = 2 * np.pi * (upper[i+1]-lower[i+1]) * (x[i+1] - x[i]) * (x[i+1]-thd_x)\n",
    "            luas_besar += luas_kecil\n",
    "            luas_besar_list.append(luas_kecil)\n",
    "        else:\n",
    "            upper = g\n",
    "            lower = y\n",
    "            luas_kecil = 2 * np.pi * (upper[i+1]-lower[i+1]) * (x[i+1] - x[i]) * (x[i+1]-thd_x)\n",
    "            luas_besar += luas_kecil\n",
    "            luas_besar_list.append(luas_kecil)\n",
    "            \n",
    "        plt.vlines(x=x[i], ymax=upper[i+1], ymin=lower[i+1], colors='green')\n",
    "        plt.vlines(x=x[i+1], ymax=upper[i+1], ymin=lower[i+1], colors='green')\n",
    "        plt.hlines(y=upper[i+1], xmax=x[i+1], xmin=x[i], colors='green')\n",
    "        plt.hlines(y=lower[i+1], xmax=x[i+1], xmin=x[i], colors='green')\n",
    "        \n",
    "        plt.vlines(x=-x[i]-d, ymax=upper[i+1], ymin=lower[i+1], colors='green')\n",
    "        plt.vlines(x=-x[i+1]-d, ymax=upper[i+1], ymin=lower[i+1], colors='green')\n",
    "        plt.hlines(y=upper[i+1], xmax=-x[i+1]-d, xmin=-x[i]-d, colors='green')\n",
    "        plt.hlines(y=lower[i+1], xmax=-x[i+1]-d, xmin=-x[i]-d, colors='green')\n",
    "        \n",
    "        \n",
    "    plt.show()\n",
    "    \n",
    "    print(f'Luas : {np.abs(luas_besar)}')"
   ]
  },
  {
   "cell_type": "code",
   "execution_count": 34,
   "id": "a5bd616d-a4c0-4d39-b491-9784e8552407",
   "metadata": {},
   "outputs": [
    {
     "data": {
      "image/png": "[encoded data removed]",
      "text/plain": [
       "<Figure size 432x288 with 1 Axes>"
      ]
     },
     "metadata": {},
     "output_type": "display_data"
    },
    {
     "name": "stdout",
     "output_type": "stream",
     "text": [
      "Luas : 23.041486671781193\n"
     ]
    }
   ],
   "source": [
    "shell_method_x_neg(x=x, y=f(x), g=g(x), thd_x=0)"
   ]
  },
  {
   "cell_type": "code",
   "execution_count": 35,
   "id": "b86c94d4-e145-4235-9c41-6189f0a73a39",
   "metadata": {},
   "outputs": [
    {
     "data": {
      "text/plain": [
       "30.9"
      ]
     },
     "execution_count": 35,
     "metadata": {},
     "output_type": "execute_result"
    }
   ],
   "source": [
    "7.86 + 23.04"
   ]
  },
  {
   "cell_type": "code",
   "execution_count": 36,
   "id": "db7c3db0-6631-473a-8b2c-72ceb7f38649",
   "metadata": {},
   "outputs": [
    {
     "data": {
      "text/plain": [
       "30.892327760299633"
      ]
     },
     "execution_count": 36,
     "metadata": {},
     "output_type": "execute_result"
    }
   ],
   "source": [
    "59/6 * np.pi"
   ]
  },
  {
   "cell_type": "code",
   "execution_count": 39,
   "id": "054c2550-7ae3-452f-8b92-0d41a0624e73",
   "metadata": {},
   "outputs": [
    {
     "data": {
      "text/plain": [
       "37.28023282259888"
      ]
     },
     "execution_count": 39,
     "metadata": {},
     "output_type": "execute_result"
    }
   ],
   "source": [
    "178/15 * np.pi"
   ]
  },
  {
   "cell_type": "code",
   "execution_count": 148,
   "id": "ddad1280-8d70-4d0e-a616-2bd843e45652",
   "metadata": {},
   "outputs": [
    {
     "data": {
      "image/png": "[encoded data removed]",
      "text/plain": [
       "<Figure size 432x288 with 1 Axes>"
      ]
     },
     "metadata": {},
     "output_type": "display_data"
    },
    {
     "name": "stdout",
     "output_type": "stream",
     "text": [
      "Luas : 3.141589511997138\n"
     ]
    }
   ],
   "source": [
    "shell_method_x_neg(x=x, y=f(x), g=g(x), thd_x=0)"
   ]
  },
  {
   "cell_type": "code",
   "execution_count": 155,
   "id": "3e9cedf9-0c03-4557-83fe-b15b044c81e0",
   "metadata": {},
   "outputs": [],
   "source": [
    "a = 0\n",
    "b = 3\n",
    "n = 1000\n",
    "x = np.linspace(a, b , n+1)\n",
    "\n",
    "f = lambda x: 3 + 2*x - x**2\n",
    "g = lambda x: np.array([0 for i in x]) # y = 0"
   ]
  },
  {
   "cell_type": "code",
   "execution_count": 156,
   "id": "aff39fa8-cce1-4bf5-a541-0010d62361e5",
   "metadata": {},
   "outputs": [
    {
     "data": {
      "image/png": "[encoded data removed]",
      "text/plain": [
       "<Figure size 432x288 with 1 Axes>"
      ]
     },
     "metadata": {},
     "output_type": "display_data"
    },
    {
     "name": "stdout",
     "output_type": "stream",
     "text": [
      "Luas : 70.68576401993556\n"
     ]
    }
   ],
   "source": [
    "shell_method_x_neg(x=x, y=f(x), g=g(x), thd_x=0)"
   ]
  },
  {
   "cell_type": "code",
   "execution_count": 157,
   "id": "b18f9fd2-cc65-4bdb-ab78-5a876730c58b",
   "metadata": {},
   "outputs": [],
   "source": [
    "def shell_method_x_pos(x, y, g, thd_x):\n",
    "    luas_besar = 0\n",
    "    luas_besar_list = []\n",
    "    \n",
    "    d = np.abs(x[0] - thd_x)\n",
    "    plt.plot(x, y, c='red')\n",
    "    plt.plot(x, g, c='red')\n",
    "    plt.plot(-x+(2*d), y, c='red')\n",
    "    plt.plot(-x+(2*d), g, c='red')\n",
    "    \n",
    "    for i in range(len(x)-1):\n",
    "        if y[i] >= g[i]:\n",
    "            upper = y\n",
    "            lower = g\n",
    "            luas_kecil = 2 * np.pi * (upper[i+1]-lower[i+1]) * (x[i+1] - x[i]) * (x[i+1]-thd_x)\n",
    "            luas_besar += luas_kecil\n",
    "            luas_besar_list.append(luas_kecil)\n",
    "        else:\n",
    "            upper = g\n",
    "            lower = y\n",
    "            luas_kecil = 2 * np.pi * (upper[i+1]-lower[i+1]) * (x[i+1] - x[i]) * (x[i+1]-thd_x)\n",
    "            luas_besar += luas_kecil\n",
    "            luas_besar_list.append(luas_kecil)\n",
    "            \n",
    "        plt.vlines(x=x[i], ymax=upper[i+1], ymin=lower[i+1], colors='green')\n",
    "        plt.vlines(x=x[i+1], ymax=upper[i+1], ymin=lower[i+1], colors='green')\n",
    "        plt.hlines(y=upper[i+1], xmax=x[i+1], xmin=x[i], colors='green')\n",
    "        plt.hlines(y=lower[i+1], xmax=x[i+1], xmin=x[i], colors='green')\n",
    "        \n",
    "        plt.vlines(x=-x[i]+(2*d), ymax=upper[i+1], ymin=lower[i+1], colors='green')\n",
    "        plt.vlines(x=-x[i+1]+(2*d), ymax=upper[i+1], ymin=lower[i+1], colors='green')\n",
    "        plt.hlines(y=upper[i+1], xmax=-x[i+1]+(2*d), xmin=-x[i]+(2*d), colors='green')\n",
    "        plt.hlines(y=lower[i+1], xmax=-x[i+1]+(2*d), xmin=-x[i]+(2*d), colors='green')\n",
    "        \n",
    "        \n",
    "    plt.show()\n",
    "    \n",
    "    print(f'Luas : {np.abs(luas_besar)}')"
   ]
  },
  {
   "cell_type": "code",
   "execution_count": 158,
   "id": "037ea868-c7bf-4ea3-9c72-069eef594bd8",
   "metadata": {},
   "outputs": [],
   "source": [
    "a = 0\n",
    "b = 3\n",
    "n = 1000\n",
    "x = np.linspace(a, b , n+1)\n",
    "\n",
    "f = lambda x: 3 + 2*x - x**2\n",
    "g = lambda x: np.array([0 for i in x]) # y = 0"
   ]
  },
  {
   "cell_type": "code",
   "execution_count": 159,
   "id": "d3879741-7328-4cd2-a97d-2af5dc0c6655",
   "metadata": {},
   "outputs": [
    {
     "data": {
      "image/png": "[encoded data removed]",
      "text/plain": [
       "<Figure size 432x288 with 1 Axes>"
      ]
     },
     "metadata": {},
     "output_type": "display_data"
    },
    {
     "name": "stdout",
     "output_type": "stream",
     "text": [
      "Luas : 155.3956966056647\n"
     ]
    }
   ],
   "source": [
    "shell_method_x_pos(x=x, y=f(x), g=g(x), thd_x=4)"
   ]
  },
  {
   "cell_type": "markdown",
   "id": "025717a3-4305-4fc3-950c-c705a950e075",
   "metadata": {},
   "source": [
    "## Center of mass (continuous mass)"
   ]
  },
  {
   "cell_type": "code",
   "execution_count": 8,
   "id": "9e5e8996-8db3-49c8-a22c-de7e745eae78",
   "metadata": {},
   "outputs": [],
   "source": [
    "a = 0\n",
    "b = 25\n",
    "n =10000\n",
    "x = np.linspace(a, b, n+1)\n",
    "ro = x**0.5"
   ]
  },
  {
   "cell_type": "code",
   "execution_count": 9,
   "id": "b4392948-4d1c-4206-8096-da03b9a36e8f",
   "metadata": {},
   "outputs": [],
   "source": [
    "def center_of_mass(ro, a, b):\n",
    "    momen_total = 0\n",
    "    mass_total = 0\n",
    "    for i in range(len(x)-1):\n",
    "        momen = ro[i+1] * (x[i+1] - x[i]) * (x[i+1]-a) # mass (ro * dx) * distance\n",
    "        mass = ro[i+1] * (x[i+1] - x[i]) # ro * dx\n",
    "        momen_total += momen\n",
    "        mass_total += mass\n",
    "    return momen_total/mass_total"
   ]
  },
  {
   "cell_type": "code",
   "execution_count": 10,
   "id": "9dc7d68a-7d78-4ed3-8e66-cfffff28b2a9",
   "metadata": {},
   "outputs": [
    {
     "data": {
      "text/plain": [
       "15.000754658479915"
      ]
     },
     "execution_count": 10,
     "metadata": {},
     "output_type": "execute_result"
    }
   ],
   "source": [
    "center_of_mass(ro, a, b)"
   ]
  },
  {
   "cell_type": "markdown",
   "id": "7c5f2d93-4277-42e6-a7b2-600d98c77813",
   "metadata": {},
   "source": [
    "## Lamina center of mass"
   ]
  },
  {
   "cell_type": "code",
   "execution_count": 17,
   "id": "74e9617a-2666-4b8c-a5eb-09e9ed7a8998",
   "metadata": {},
   "outputs": [],
   "source": [
    "a = 0\n",
    "b = 5\n",
    "n = 10000\n",
    "x = np.linspace(a, b, n+1)\n",
    "f = lambda x: 3 - x\n",
    "g = lambda x: 0.5*x + 3"
   ]
  },
  {
   "cell_type": "code",
   "execution_count": 18,
   "id": "9a324244-f0c1-42b6-8e50-11b582d6365d",
   "metadata": {},
   "outputs": [
    {
     "data": {
      "text/plain": [
       "[[0]]"
      ]
     },
     "execution_count": 18,
     "metadata": {},
     "output_type": "execute_result"
    }
   ],
   "source": [
    "np.argwhere(np.isclose(f(x), g(x))).tolist()"
   ]
  },
  {
   "cell_type": "code",
   "execution_count": 170,
   "id": "35ea0c3b-cc6e-43dd-b660-0a3bd5cade3f",
   "metadata": {},
   "outputs": [],
   "source": [
    "def lamina_com(f, g, x):\n",
    "    loc = np.argwhere(np.isclose(f, g)).tolist()\n",
    "    total_momen_x = 0\n",
    "    total_mass_x = 0\n",
    "    \n",
    "    total_momen_y = 0\n",
    "    total_mass_y = 0\n",
    "    for i in range(loc[0][0], loc[1][0]-1):\n",
    "        if f[i] >= g[i]:\n",
    "            momen_x = (x[i+1] - x[i]) * (f[i] - g[i]) * ((x[i+1] + x[i])/2)\n",
    "            mass_x = (x[i+1] - x[i]) * (f[i] - g[i])\n",
    "            total_momen_x += momen_x\n",
    "            total_mass_x += mass_x\n",
    "                \n",
    "            momen_y = (x[i+1] - x[i]) * (f[i] - g[i]) * ((f[i] + g[i])/2)\n",
    "            mass_y = (x[i+1] - x[i]) * (f[i] - g[i])\n",
    "            total_momen_y += momen_y\n",
    "            total_mass_y += mass_y\n",
    "        else:\n",
    "            momen_x = (x[i+1] - x[i]) * (g[i] - f[i]) * ((x[i+1] + x[i])/2)\n",
    "            mass_x = (x[i+1] - x[i]) * (g[i] - f[i])\n",
    "            total_momen_x += momen_x\n",
    "            total_mass_x += mass_x\n",
    "                \n",
    "            momen_y = (x[i+1] - x[i]) * (g[i] - f[i]) * ((g[i] + f[i])/2)\n",
    "            mass_y = (x[i+1] - x[i]) * (g[i] - f[i])\n",
    "            total_momen_y += momen_y\n",
    "            total_mass_y += mass_y\n",
    "            \n",
    "    plt.plot(x[loc[0][0]: loc[1][0]-1], f[loc[0][0]: loc[1][0]-1])\n",
    "    plt.plot(x[loc[0][0]: loc[1][0]-1], g[loc[0][0]: loc[1][0]-1])\n",
    "    return total_momen_x/total_mass_x, total_momen_y/total_mass_y\n",
    "    "
   ]
  },
  {
   "cell_type": "code",
   "execution_count": 171,
   "id": "bded0e4e-219b-4571-a7b9-58b762ca293d",
   "metadata": {},
   "outputs": [
    {
     "data": {
      "text/plain": [
       "(0.4802518334311767, 0.42857286750262225)"
      ]
     },
     "execution_count": 171,
     "metadata": {},
     "output_type": "execute_result"
    },
    {
     "data": {
      "image/png": "[encoded data removed]",
      "text/plain": [
       "<Figure size 432x288 with 1 Axes>"
      ]
     },
     "metadata": {
      "needs_background": "light"
     },
     "output_type": "display_data"
    }
   ],
   "source": [
    "lamina_com(f(x), g(x), x)"
   ]
  },
  {
   "cell_type": "code",
   "execution_count": 165,
   "id": "11e80efa-10eb-4c1a-a241-1f490b8a765d",
   "metadata": {},
   "outputs": [
    {
     "data": {
      "text/plain": [
       "1.5707963267948966"
      ]
     },
     "execution_count": 165,
     "metadata": {},
     "output_type": "execute_result"
    }
   ],
   "source": [
    "np.pi/2"
   ]
  },
  {
   "cell_type": "markdown",
   "id": "cd5aac72-a870-4c00-af98-c2ddb5fd88aa",
   "metadata": {},
   "source": [
    "## Sigma"
   ]
  },
  {
   "cell_type": "code",
   "execution_count": 2,
   "id": "67718da9-4f0e-4d51-aafe-10dfbcfd06ff",
   "metadata": {},
   "outputs": [],
   "source": [
    "a = 1\n",
    "b = 6\n",
    "\n",
    "total = 0\n",
    "for i in range(a, b+1):\n",
    "    func = (i - 1)\n",
    "    total += func"
   ]
  },
  {
   "cell_type": "code",
   "execution_count": 3,
   "id": "88840622-62d4-4bcc-bfad-34da6844506e",
   "metadata": {},
   "outputs": [
    {
     "data": {
      "text/plain": [
       "15"
      ]
     },
     "execution_count": 3,
     "metadata": {},
     "output_type": "execute_result"
    }
   ],
   "source": [
    "total"
   ]
  },
  {
   "cell_type": "code",
   "execution_count": 6,
   "id": "f0191d18-4d9c-46cd-af2a-46bf79070049",
   "metadata": {},
   "outputs": [],
   "source": [
    "a = 1\n",
    "b = 7\n",
    "\n",
    "total = 0\n",
    "for i in range(a, b+1):\n",
    "    func = 1 / (i + 1)\n",
    "    total += func"
   ]
  },
  {
   "cell_type": "code",
   "execution_count": 7,
   "id": "8c39a02b-f9c8-47a4-8bf5-70e26eda4bef",
   "metadata": {},
   "outputs": [
    {
     "data": {
      "text/plain": [
       "1.7178571428571427"
      ]
     },
     "execution_count": 7,
     "metadata": {},
     "output_type": "execute_result"
    }
   ],
   "source": [
    "total"
   ]
  },
  {
   "cell_type": "code",
   "execution_count": 8,
   "id": "40c4fb36-302b-44f4-8bb6-86c4613d4637",
   "metadata": {},
   "outputs": [],
   "source": [
    "a = 1\n",
    "b = 8\n",
    "\n",
    "total = 0\n",
    "for i in range(a, b+1):\n",
    "    func =(-1)**i * 2**(i-2)\n",
    "    total += func"
   ]
  },
  {
   "cell_type": "code",
   "execution_count": 9,
   "id": "98dac34f-b7be-4b37-a09c-21404239b770",
   "metadata": {},
   "outputs": [
    {
     "data": {
      "text/plain": [
       "42.5"
      ]
     },
     "execution_count": 9,
     "metadata": {},
     "output_type": "execute_result"
    }
   ],
   "source": [
    "total"
   ]
  },
  {
   "cell_type": "code",
   "execution_count": 10,
   "id": "99172e59-041f-481f-ad6c-9652e6ddae68",
   "metadata": {},
   "outputs": [],
   "source": [
    "a = 1\n",
    "b = 6\n",
    "\n",
    "total = 0\n",
    "for i in range(a, b+1):\n",
    "    func = i * np.cos(np.pi * i)\n",
    "    total += func"
   ]
  },
  {
   "cell_type": "code",
   "execution_count": 11,
   "id": "767d2538-7710-4f4e-a1b4-c9f75e11dbb9",
   "metadata": {},
   "outputs": [
    {
     "data": {
      "text/plain": [
       "3.0"
      ]
     },
     "execution_count": 11,
     "metadata": {},
     "output_type": "execute_result"
    }
   ],
   "source": [
    "total"
   ]
  },
  {
   "cell_type": "code",
   "execution_count": 12,
   "id": "68563668-f780-4526-8a2a-aa547d7bbabe",
   "metadata": {},
   "outputs": [],
   "source": [
    "a = 1\n",
    "b = 6\n",
    "\n",
    "total = 0\n",
    "for i in range(a, b+1):\n",
    "    func = i**2\n",
    "    total += func"
   ]
  },
  {
   "cell_type": "code",
   "execution_count": 13,
   "id": "2994dab7-5476-4d34-b3e7-6d0c51dc1bd2",
   "metadata": {},
   "outputs": [
    {
     "data": {
      "text/plain": [
       "91"
      ]
     },
     "execution_count": 13,
     "metadata": {},
     "output_type": "execute_result"
    }
   ],
   "source": [
    "total"
   ]
  },
  {
   "cell_type": "code",
   "execution_count": 14,
   "id": "0ae5ca7a-af6e-4e9d-b8cd-ea68b6a5e600",
   "metadata": {},
   "outputs": [
    {
     "name": "stdout",
     "output_type": "stream",
     "text": [
      "271\n"
     ]
    }
   ],
   "source": [
    "a = 3\n",
    "b = 8\n",
    "\n",
    "total = 0\n",
    "for i in range(a, b+1):\n",
    "    func = (i+1)**2\n",
    "    total += func\n",
    "\n",
    "print(total)"
   ]
  },
  {
   "cell_type": "code",
   "execution_count": 19,
   "id": "ec4003fb-fb0f-492d-86cc-01ac670fd577",
   "metadata": {},
   "outputs": [
    {
     "name": "stdout",
     "output_type": "stream",
     "text": [
      "-10.99047619047619\n"
     ]
    }
   ],
   "source": [
    "a = 3\n",
    "b = 7\n",
    "\n",
    "total = 0\n",
    "for i in range(a, b+1):\n",
    "    func = ((-1)**i * 2**i)/(i + 1)\n",
    "    total += func\n",
    "\n",
    "print(total)"
   ]
  },
  {
   "cell_type": "code",
   "execution_count": 21,
   "id": "376450e8-d926-412a-ad3b-318e721edcb0",
   "metadata": {},
   "outputs": [
    {
     "name": "stdout",
     "output_type": "stream",
     "text": [
      "4.000000000000002\n"
     ]
    }
   ],
   "source": [
    "a = -1\n",
    "b = 6\n",
    "\n",
    "total = 0\n",
    "for i in range(a, b+1):\n",
    "    func = i * np.sin(i * np.pi / 2)\n",
    "    total += func\n",
    "\n",
    "print(total)"
   ]
  },
  {
   "cell_type": "code",
   "execution_count": 22,
   "id": "49fb9946-f7a9-4eb4-a462-4124e09794e6",
   "metadata": {},
   "outputs": [
    {
     "name": "stdout",
     "output_type": "stream",
     "text": [
      "861\n"
     ]
    }
   ],
   "source": [
    "a = 1\n",
    "b = 41\n",
    "\n",
    "total = 0\n",
    "for i in range(a, b+1):\n",
    "    func = i \n",
    "    total += func\n",
    "\n",
    "print(total)"
   ]
  },
  {
   "cell_type": "code",
   "execution_count": 24,
   "id": "8d4b3084-3cfa-4350-b356-ff7af3be4196",
   "metadata": {},
   "outputs": [
    {
     "name": "stdout",
     "output_type": "stream",
     "text": [
      "650\n"
     ]
    }
   ],
   "source": [
    "a = 2\n",
    "b = 50\n",
    "\n",
    "total = 0\n",
    "for i in range(a, b+1, 2):\n",
    "    func = i \n",
    "    total += func\n",
    "\n",
    "print(total)"
   ]
  },
  {
   "cell_type": "code",
   "execution_count": 25,
   "id": "94426027-937e-4db7-993b-9ffdeb455025",
   "metadata": {},
   "outputs": [
    {
     "name": "stdout",
     "output_type": "stream",
     "text": [
      "5.187377517639621\n"
     ]
    }
   ],
   "source": [
    "a = 1\n",
    "b = 100\n",
    "\n",
    "total = 0\n",
    "for i in range(a, b+1):\n",
    "    func = 1/i\n",
    "    total += func\n",
    "\n",
    "print(total)"
   ]
  },
  {
   "cell_type": "code",
   "execution_count": 36,
   "id": "b49050e2-0f10-434a-bf95-250ab39ac8f4",
   "metadata": {},
   "outputs": [
    {
     "name": "stdout",
     "output_type": "stream",
     "text": [
      "0.6881721793101954\n"
     ]
    }
   ],
   "source": [
    "a = 1\n",
    "b = 100\n",
    "\n",
    "total_ganjil = 0\n",
    "total_genap = 0\n",
    "\n",
    "for i in range(a, b+1, 2):\n",
    "    func = 1/i\n",
    "    total_ganjil += func\n",
    "\n",
    "for i in range(a+1, b+1, 2):\n",
    "    func_g = 1/i\n",
    "    total_genap -= func_g\n",
    "\n",
    "print(total_ganjil + total_genap)"
   ]
  },
  {
   "cell_type": "code",
   "execution_count": 37,
   "id": "27bb2833-cdcd-45ba-b11e-db9918269b25",
   "metadata": {},
   "outputs": [
    {
     "name": "stdout",
     "output_type": "stream",
     "text": [
      "55\n"
     ]
    }
   ],
   "source": [
    "a = 1\n",
    "b = 10\n",
    "\n",
    "total = 0\n",
    "for i in range(a, b+1):\n",
    "    func = i\n",
    "    total += func\n",
    "\n",
    "print(total)"
   ]
  },
  {
   "cell_type": "code",
   "execution_count": 53,
   "id": "6e621d3f-9554-4c4d-939e-c6871a150d62",
   "metadata": {},
   "outputs": [
    {
     "data": {
      "text/plain": [
       "3.875"
      ]
     },
     "execution_count": 53,
     "metadata": {},
     "output_type": "execute_result"
    }
   ],
   "source": [
    "31/8"
   ]
  },
  {
   "cell_type": "code",
   "execution_count": null,
   "id": "120fffd9-cc43-4642-9696-b21f9325701a",
   "metadata": {},
   "outputs": [],
   "source": []
  }
 ],
 "metadata": {
  "kernelspec": {
   "display_name": "my_env",
   "language": "python",
   "name": "my_env"
  },
  "language_info": {
   "codemirror_mode": {
    "name": "ipython",
    "version": 3
   },
   "file_extension": ".py",
   "mimetype": "text/x-python",
   "name": "python",
   "nbconvert_exporter": "python",
   "pygments_lexer": "ipython3",
   "version": "3.9.7"
  }
 },
 "nbformat": 4,
 "nbformat_minor": 5
}
